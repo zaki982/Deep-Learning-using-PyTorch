{
 "cells": [
  {
   "cell_type": "code",
   "execution_count": 1,
   "id": "045231dd",
   "metadata": {},
   "outputs": [
    {
     "name": "stderr",
     "output_type": "stream",
     "text": [
      "C:\\Users\\dell\\AppData\\Roaming\\Python\\Python313\\site-packages\\tqdm\\auto.py:21: TqdmWarning: IProgress not found. Please update jupyter and ipywidgets. See https://ipywidgets.readthedocs.io/en/stable/user_install.html\n",
      "  from .autonotebook import tqdm as notebook_tqdm\n"
     ]
    }
   ],
   "source": [
    "import torch # to create tensors to store the raw data, weights and biases \n",
    "import torch.nn as nn # to make the weights and biases learnable (part of the network)\n",
    "import torch.nn.functional as F # to apply activation functions \n",
    "from torch.optim import Adam  \n",
    "\n",
    "import lightning as L # to train the model \n",
    "from torch.utils.data import DataLoader, TensorDataset # to load the data \n",
    "from lightning.pytorch.tuner.tuning import Tuner      \n",
    "from lightning.pytorch.callbacks import ModelCheckpoint #Lightning is trying to delete the previous checkpoint (because the default ModelCheckpoint is set to save_top_k=1).\n",
    "                                                        # On Windows a file gets locked as soon as any program (Explorer preview, antivirus, TensorBoard, VS Code, …) opens it, and Windows then blocks the delete call ⇒ PermissionError WinError 32.\n",
    "\n",
    "\n",
    "import matplotlib.pyplot as plt # graphs \n",
    "import seaborn as sns # graphs\n"
   ]
  },
  {
   "cell_type": "code",
   "execution_count": 2,
   "id": "505f0478",
   "metadata": {},
   "outputs": [],
   "source": [
    "from typing import override\n",
    "\n",
    "\n",
    "class LSTMbyHand(L.LightningModule):\n",
    "\n",
    "    def __init__(self): # init the weights and biases of the LSTM from a normal distribution\n",
    "\n",
    "        super().__init__()\n",
    "        mean = torch.tensor(0.0)\n",
    "        std = torch.tensor(1.0)\n",
    "\n",
    "        self.wlr1 = nn.Parameter(torch.normal(mean=mean, std=std), requires_grad=True)\n",
    "        self.wlr2 = nn.Parameter(torch.normal(mean=mean, std=std), requires_grad=True)\n",
    "        self.blr1 = nn.Parameter(torch.tensor(0.0), requires_grad=True)\n",
    "\n",
    "        self.wpr1 = nn.Parameter(torch.normal(mean=mean, std=std), requires_grad=True)\n",
    "        self.wpr2 = nn.Parameter(torch.normal(mean=mean, std=std), requires_grad=True)\n",
    "        self.bpr1 = nn.Parameter(torch.tensor(0.0), requires_grad=True)\n",
    "\n",
    "        self.wp1 = nn.Parameter(torch.normal(mean=mean, std=std), requires_grad=True)\n",
    "        self.wp2 = nn.Parameter(torch.normal(mean=mean, std=std), requires_grad=True)\n",
    "        self.bp1 = nn.Parameter(torch.tensor(0.0), requires_grad=True)\n",
    "\n",
    "        self.wo1 = nn.Parameter(torch.normal(mean=mean, std=std), requires_grad=True)\n",
    "        self.wo2 = nn.Parameter(torch.normal(mean=mean, std=std), requires_grad=True)\n",
    "        self.bo1 = nn.Parameter(torch.tensor(0.0), requires_grad=True)\n",
    "\n",
    "    def lstm_unit(self, input_value, long_memory, short_memory): # the lstm unit with the 3 gates / phases \n",
    "        \n",
    "        long_remember_percent = torch.sigmoid(short_memory * self.wlr1 + input_value * self.wlr2 + self.blr1 )\n",
    "        \n",
    "        potential_long_memory_remember_percent = torch.sigmoid(short_memory * self.wpr1 + input_value * self.wpr2 + self.bpr1)\n",
    "        \n",
    "        potential_long_memory = torch.tanh(short_memory * self.wp1 + input_value * self.wp2 + self.bp1)\n",
    "        \n",
    "        updated_long_memory = (long_memory * long_remember_percent) + (potential_long_memory * potential_long_memory_remember_percent)\n",
    "\n",
    "        output_percent = torch.sigmoid(short_memory * self.wo1 + input_value * self.wo2 + self.bo1)\n",
    "\n",
    "        updated_short_memory = torch.tanh(updated_long_memory) * output_percent\n",
    "\n",
    "        return ([updated_long_memory, updated_short_memory])\n",
    "\n",
    "    def forward(self, input): # make a forward pass throught the unrolled LSTM\n",
    "\n",
    "        long_memory=0\n",
    "        short_memory=0\n",
    "\n",
    "        day1= input[0]\n",
    "        day2= input[1]\n",
    "        day3= input[2]\n",
    "        day4= input[3]\n",
    "\n",
    "        long_memory, short_memory = self.lstm_unit(day1, long_memory, short_memory)\n",
    "        long_memory, short_memory = self.lstm_unit(day2, long_memory, short_memory)\n",
    "        long_memory, short_memory = self.lstm_unit(day3, long_memory, short_memory)\n",
    "        long_memory, short_memory = self.lstm_unit(day4, long_memory, short_memory)\n",
    "\n",
    "        return short_memory    \n",
    "\n",
    "    def configure_optimizers(self): \n",
    "        return Adam(self.parameters())\n",
    "\n",
    "    def training_step(self, batch, batch_idx): # calc loss and log training loss process\n",
    "        input_i,label_i = batch\n",
    "        output_i=self.forward(input_i[0])\n",
    "\n",
    "        loss = (output_i-label_i)**2\n",
    "\n",
    "        self.log(\"train_loss\", loss) # part of lightning ; it we create new file to log the loss \n",
    "        \n",
    "        if(label_i == 0):\n",
    "            self.log(\"out_0\", output_i)\n",
    "        else:\n",
    "            self.log(\"out_1\", output_i)\n",
    "\n",
    "        return loss"
   ]
  },
  {
   "cell_type": "code",
   "execution_count": 4,
   "id": "72067d29",
   "metadata": {},
   "outputs": [
    {
     "name": "stdout",
     "output_type": "stream",
     "text": [
      "\n",
      "Now lets compare the observed and the predicted values\n",
      "Company A: observed =0 , Predicred= tensor(-0.0392)\n",
      "Company B: observed =1 , Predicred= tensor(-0.0421)\n"
     ]
    }
   ],
   "source": [
    "model = LSTMbyHand()\n",
    "\n",
    "print(\"\\nNow lets compare the observed and the predicted values\")\n",
    "print(\"Company A: observed =0 , Predicred=\",model(torch.tensor([0.,0.5,0.25,1.])).detach())\n",
    "\n",
    "print(\"Company B: observed =1 , Predicred=\",model(torch.tensor([1.,0.5,0.25,1.])).detach())\n"
   ]
  },
  {
   "cell_type": "code",
   "execution_count": 14,
   "id": "7b109925",
   "metadata": {},
   "outputs": [
    {
     "name": "stderr",
     "output_type": "stream",
     "text": [
      "GPU available: False, used: False\n",
      "TPU available: False, using: 0 TPU cores\n",
      "HPU available: False, using: 0 HPUs\n",
      "\n",
      "  | Name         | Type | Params | Mode\n",
      "---------------------------------------------\n",
      "  | other params | n/a  | 12     | n/a \n",
      "---------------------------------------------\n",
      "12        Trainable params\n",
      "0         Non-trainable params\n",
      "12        Total params\n",
      "0.000     Total estimated model params size (MB)\n",
      "0         Modules in train mode\n",
      "0         Modules in eval mode\n",
      "C:\\Users\\dell\\AppData\\Roaming\\Python\\Python313\\site-packages\\lightning\\pytorch\\trainer\\connectors\\data_connector.py:425: The 'train_dataloader' does not have many workers which may be a bottleneck. Consider increasing the value of the `num_workers` argument` to `num_workers=11` in the `DataLoader` to improve performance.\n",
      "C:\\Users\\dell\\AppData\\Roaming\\Python\\Python313\\site-packages\\lightning\\pytorch\\loops\\fit_loop.py:310: The number of training batches (2) is smaller than the logging interval Trainer(log_every_n_steps=50). Set a lower value for log_every_n_steps if you want to see logs for the training epoch.\n"
     ]
    },
    {
     "name": "stdout",
     "output_type": "stream",
     "text": [
      "Epoch 3999: 100%|██████████| 2/2 [00:00<00:00, 29.36it/s, v_num=62] "
     ]
    },
    {
     "name": "stderr",
     "output_type": "stream",
     "text": [
      "`Trainer.fit` stopped: `max_epochs=4000` reached.\n"
     ]
    },
    {
     "name": "stdout",
     "output_type": "stream",
     "text": [
      "Epoch 3999: 100%|██████████| 2/2 [00:00<00:00, 25.25it/s, v_num=62]\n",
      "\n",
      "Now lets compare the observed and the predicted values\n",
      "Company A: observed =0 , Predicred= tensor(4.8487e-05)\n",
      "Company B: observed =1 , Predicred= tensor(0.9755)\n"
     ]
    }
   ],
   "source": [
    "inputs = torch.tensor([[0.,0.5,0.25,1.],[1,0.5,0.25,1.]])\n",
    "labels = torch.tensor([0.,1.])\n",
    "\n",
    "dataset=TensorDataset(inputs,labels)\n",
    "\n",
    "dataloader=DataLoader(dataset)\n",
    "\n",
    "ckpt_cb = ModelCheckpoint(save_top_k=-1)   # -1 = keep everything\n",
    "\n",
    "trainer=L.Trainer(max_epochs=4000,callbacks=[ckpt_cb])\n",
    "\n",
    "trainer.fit(model,train_dataloaders=dataloader)\n",
    "\n",
    "\n",
    "print(\"\\nNow lets compare the observed and the predicted values\")\n",
    "print(\"Company A: observed =0 , Predicred=\",model(torch.tensor([0.,0.5,0.25,1.])).detach())\n",
    "\n",
    "print(\"Company B: observed =1 , Predicred=\",model(torch.tensor([1.,0.5,0.25,1.])).detach())"
   ]
  },
  {
   "cell_type": "code",
   "execution_count": null,
   "id": "d1cfb67d",
   "metadata": {},
   "outputs": [],
   "source": [
    "class LightningLSTM(pl.LightningModule):\n",
    "    def __init__(self):\n",
    "        super().__init__()\n",
    "\n",
    "        self.lstm = nn.LSTM(input_size=1, hidden_size=3) \n",
    "    def forward(self, input):\n",
    "        \n",
    "        "
   ]
  }
 ],
 "metadata": {
  "kernelspec": {
   "display_name": "Python 3",
   "language": "python",
   "name": "python3"
  },
  "language_info": {
   "codemirror_mode": {
    "name": "ipython",
    "version": 3
   },
   "file_extension": ".py",
   "mimetype": "text/x-python",
   "name": "python",
   "nbconvert_exporter": "python",
   "pygments_lexer": "ipython3",
   "version": "3.13.5"
  }
 },
 "nbformat": 4,
 "nbformat_minor": 5
}
