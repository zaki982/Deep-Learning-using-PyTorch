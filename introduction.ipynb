{
 "cells": [
  {
   "cell_type": "code",
   "execution_count": null,
   "id": "8142d8a2",
   "metadata": {},
   "outputs": [],
   "source": [
    "import torch # to create tensors to store the raw data, weights and biases \n",
    "import torch.nn as nn # to make the weights and biases learnable (part of the network)\n",
    "import torch.nn.functional as F # to apply activation functions \n",
    "from torch.optim import SGD # stochastic gradient descent \n",
    "\n",
    "import matplotlib.pyplot as plt # graphs \n",
    "import seaborn as sns # graphs\n"
   ]
  },
  {
   "cell_type": "code",
   "execution_count": null,
   "id": "1115cd13",
   "metadata": {},
   "outputs": [],
   "source": [
    "# in PyTorch creating a new NN means creating a new class that inherits from nn.Module  \n",
    "\n",
    "class BasicNN(nn.Module):\n",
    "    def __init__(self):\n",
    "        super().__init__() # init for parent class\n",
    "\n",
    "        self.w00=nn.Parameter(torch.tensor(1.7), requires_grad=False)\n",
    "        self.b00=nn.Parameter(torch.tensor(-0.85), requires_grad=False)\n",
    "        self.w01=nn.Parameter(torch.tensor(-40.8), requires_grad=False)\n",
    "\n",
    "        self.w10=nn.Parameter(torch.tensor(12.6), requires_grad=False)\n",
    "        self.b10=nn.Parameter(torch.tensor(0.0), requires_grad=False)\n",
    "        self.w11=nn.Parameter(torch.tensor(2.7), requires_grad=False)\n",
    "        \n",
    "        self.final_bias=nn.Parameter(torch.tensor(-16.0), requires_grad=False)\n",
    "        \n",
    "    def forward(self, input):\n",
    "        \n",
    "\n",
    "\n",
    "        "
   ]
  }
 ],
 "metadata": {
  "kernelspec": {
   "display_name": "Python 3",
   "language": "python",
   "name": "python3"
  },
  "language_info": {
   "name": "python",
   "version": "3.13.5"
  }
 },
 "nbformat": 4,
 "nbformat_minor": 5
}
