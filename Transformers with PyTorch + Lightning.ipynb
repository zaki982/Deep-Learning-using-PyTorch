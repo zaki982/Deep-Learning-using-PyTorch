{
 "cells": [
  {
   "cell_type": "code",
   "execution_count": 1,
   "id": "27ea024a",
   "metadata": {},
   "outputs": [
    {
     "name": "stderr",
     "output_type": "stream",
     "text": [
      "C:\\Users\\dell\\AppData\\Roaming\\Python\\Python313\\site-packages\\tqdm\\auto.py:21: TqdmWarning: IProgress not found. Please update jupyter and ipywidgets. See https://ipywidgets.readthedocs.io/en/stable/user_install.html\n",
      "  from .autonotebook import tqdm as notebook_tqdm\n"
     ]
    }
   ],
   "source": [
    "import torch # to create tensors to store the raw data, weights and biases \n",
    "import torch.nn as nn # to make the weights and biases learnable (part of the network)\n",
    "import torch.nn.functional as F # to apply activation functions \n",
    "from torch.optim import Adam  \n",
    "\n",
    "import lightning as L # to train the model \n",
    "from torch.utils.data import DataLoader, TensorDataset # to load the data \n",
    "from lightning.pytorch.tuner.tuning import Tuner      \n",
    "from lightning.pytorch.callbacks import ModelCheckpoint #Lightning is trying to delete the previous checkpoint (because the default ModelCheckpoint is set to save_top_k=1).\n",
    "                                                        # On Windows a file gets locked as soon as any program (Explorer preview, antivirus, TensorBoard, VS Code, …) opens it, and Windows then blocks the delete call ⇒ PermissionError WinError 32\n",
    "\n",
    "import pandas as pd # to load the data \n",
    "import matplotlib.pyplot as plt # graphs \n",
    "import seaborn as sns # graphs"
   ]
  },
  {
   "cell_type": "code",
   "execution_count": null,
   "id": "e4c0e7eb",
   "metadata": {},
   "outputs": [],
   "source": [
    "token_to_id = {\n",
    "    \"what\": 0,\n",
    "    \"is\": 1,\n",
    "    \"statquest\": 2,\n",
    "    \"<EOS>\": 3,\n",
    "    \"awesome\": 4\n",
    "}\n",
    "id_to_token = dict(map(reversed, token_to_id.items()))\n",
    "\n",
    "\n",
    "inputs = torch.tensor([[token_to_id[\"what\"],\n",
    "                        token_to_id[\"is\"],\n",
    "                        token_to_id[\"statquest\"],\n",
    "                        token_to_id[\"<EOS>\"],\n",
    "                        token_to_id[\"awesome\"]],\n",
    "                       \n",
    "                       [token_to_id[\"statquest\"],\n",
    "                        token_to_id[\"is\"],\n",
    "                        token_to_id[\"what\"],\n",
    "                        token_to_id[\"<EOS>\"],\n",
    "                        token_to_id[\"awesome\"]]])\n",
    "\n",
    "labels = torch.tensor([[token_to_id[\"is\"],\n",
    "                       token_to_id[\"statquest\"],\n",
    "                       token_to_id[\"<EOS>\"],\n",
    "                       token_to_id[\"awesome\"],\n",
    "                       token_to_id[\"<EOS>\"]],\n",
    "                      \n",
    "                      [token_to_id[\"is\"],\n",
    "                       token_to_id[\"what\"],\n",
    "                       token_to_id[\"<EOS>\"],\n",
    "                       token_to_id[\"awesome\"],\n",
    "                       token_to_id[\"<EOS>\"]]])\n",
    "\n",
    "dataset = TensorDataset(inputs, labels)\n",
    "dataloader = DataLoader(dataset)\n"
   ]
  },
  {
   "cell_type": "code",
   "execution_count": null,
   "id": "4726e63d",
   "metadata": {},
   "outputs": [],
   "source": [
    "class PositionEncoding(nn.Module):\n",
    "    \n",
    "    def __init__(self, d_model=2, max_len=6): # d_model is the dimension of the word embeddings and max_len is the maximum length of the sequence that the transformer can process for both inputs and outputs\n",
    "        super().__init__()\n",
    "        \n",
    "        pe = torch.zeros(max_len, d_model) # position encoding matrix\n",
    "        \n",
    "        position = torch.arange(start=0, end=max_len, step=1).float().unsqueeze(1) # create a column matrix of positions , arrange() is to createa sequence of numbers from 0 to max_len-1, and unsqueeze(1) is to turn the sequence into a column matrix\n",
    "        embedding_index = torch.arange(start=0, end=d_model, step=2).float() # create a row matrix of embedding indices, arrange() is to create a sequence of numbers from 0 to d_model-1, and step=2 to get 2i in the math formula\n",
    "        \n",
    "        div_term = 1/torch.tensor(10000.0)**(embedding_index / d_model) # create a matrix of division terms\n",
    "        \n",
    "        pe[:, 0::2] = torch.sin(position * div_term) # fill the even indices of the position encoding matrix with the sine of the position and division term\n",
    "        pe[:, 1::2] = torch.cos(position * div_term) # fill the odd indices of the position encoding matrix with the cosine of the position and division term\n",
    "        \n",
    "        self.register_buffer('pe', pe) # to ensure pe gets moved to the GPU when the model is moved to the GPU\n",
    "    \n",
    "    def forward(self, word_embeddings):\n",
    "        return word_embeddings + self.pe[:word_embeddings.size(0), :] # add the position encoding to the word embeddings"
   ]
  },
  {
   "cell_type": "code",
   "execution_count": null,
   "id": "8850bf99",
   "metadata": {},
   "outputs": [],
   "source": [
    "class Attention(nn.Module):\n",
    "    def __init__(self, d_model=2):\n",
    "        super().__init__()\n",
    "        self.W_q = nn.Linear(in_features=d_model, out_features=d_model,bias=False) #matrix of weight for the Query \n",
    "        self.W_k = nn.Linear(in_features=d_model, out_features=d_model,bias=False) #matrix of weight for the Key\n",
    "        self.W_v = nn.Linear(in_features=d_model, out_features=d_model,bias=False) #matrix of weight for the Value\n",
    "        \n",
    "        self.row_dim=0\n",
    "        self.col_dim=1\n",
    "    def forward(self, encoding_for_query, encoding_for_key, encoding_for_value,mask=None):\n",
    "        q = self.W_q(encoding_for_query) # query matrix\n",
    "        k = self.W_k(encoding_for_key) # key matrix\n",
    "        v = self.W_v(encoding_for_value) # value matrix\n",
    "\n",
    "        #similarity scores are the dot product of the query and key matrices\n",
    "        similarity_scores = torch.matmul(q, k.transpose(self.row_dim, self.col_dim)) # matmul is to multiply the query and key matrices, transpose is to swap the rows and columns of the key matrix\n",
    "\n",
    "        scaled_similarity_scores = similarity_scores / torch.tensor(k.size(self.col_dim)**0.5)\n",
    "\n",
    "        if mask is not None: # if mask is not None, set the similarity scores of the masked positions to -1e9, this is to prevent the model form cheating by looking at the future tokens\n",
    "            scaled_similarity_scores = scaled_similarity_scores.masked_fill(mask == mask, -1e9)\n",
    "\n",
    "        attention_percents = F.softmax(scaled_similarity_scores, dim=self.col_dim) # to determine the percentages of influence that each token should have on the others\n",
    "        \n",
    "        attention_scores = torch.matmul(attention_percents, v) # to get the attention scores\n",
    "\n",
    "        return attention_scores"
   ]
  }
 ],
 "metadata": {
  "kernelspec": {
   "display_name": "Python 3",
   "language": "python",
   "name": "python3"
  },
  "language_info": {
   "codemirror_mode": {
    "name": "ipython",
    "version": 3
   },
   "file_extension": ".py",
   "mimetype": "text/x-python",
   "name": "python",
   "nbconvert_exporter": "python",
   "pygments_lexer": "ipython3",
   "version": "3.13.5"
  }
 },
 "nbformat": 4,
 "nbformat_minor": 5
}
