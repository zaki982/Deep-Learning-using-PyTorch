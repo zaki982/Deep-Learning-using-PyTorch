{
 "cells": [
  {
   "cell_type": "code",
   "execution_count": 2,
   "metadata": {},
   "outputs": [
    {
     "name": "stderr",
     "output_type": "stream",
     "text": [
      "C:\\Users\\dell\\AppData\\Roaming\\Python\\Python313\\site-packages\\google\\protobuf\\runtime_version.py:98: UserWarning: Protobuf gencode version 5.28.3 is exactly one major version older than the runtime version 6.31.1 at tensorflow/core/framework/attr_value.proto. Please update the gencode to avoid compatibility violations in the next runtime release.\n",
      "  warnings.warn(\n",
      "C:\\Users\\dell\\AppData\\Roaming\\Python\\Python313\\site-packages\\google\\protobuf\\runtime_version.py:98: UserWarning: Protobuf gencode version 5.28.3 is exactly one major version older than the runtime version 6.31.1 at tensorflow/core/framework/tensor.proto. Please update the gencode to avoid compatibility violations in the next runtime release.\n",
      "  warnings.warn(\n",
      "C:\\Users\\dell\\AppData\\Roaming\\Python\\Python313\\site-packages\\google\\protobuf\\runtime_version.py:98: UserWarning: Protobuf gencode version 5.28.3 is exactly one major version older than the runtime version 6.31.1 at tensorflow/core/framework/resource_handle.proto. Please update the gencode to avoid compatibility violations in the next runtime release.\n",
      "  warnings.warn(\n",
      "C:\\Users\\dell\\AppData\\Roaming\\Python\\Python313\\site-packages\\google\\protobuf\\runtime_version.py:98: UserWarning: Protobuf gencode version 5.28.3 is exactly one major version older than the runtime version 6.31.1 at tensorflow/core/framework/tensor_shape.proto. Please update the gencode to avoid compatibility violations in the next runtime release.\n",
      "  warnings.warn(\n",
      "C:\\Users\\dell\\AppData\\Roaming\\Python\\Python313\\site-packages\\google\\protobuf\\runtime_version.py:98: UserWarning: Protobuf gencode version 5.28.3 is exactly one major version older than the runtime version 6.31.1 at tensorflow/core/framework/types.proto. Please update the gencode to avoid compatibility violations in the next runtime release.\n",
      "  warnings.warn(\n",
      "C:\\Users\\dell\\AppData\\Roaming\\Python\\Python313\\site-packages\\google\\protobuf\\runtime_version.py:98: UserWarning: Protobuf gencode version 5.28.3 is exactly one major version older than the runtime version 6.31.1 at tensorflow/core/framework/full_type.proto. Please update the gencode to avoid compatibility violations in the next runtime release.\n",
      "  warnings.warn(\n",
      "C:\\Users\\dell\\AppData\\Roaming\\Python\\Python313\\site-packages\\google\\protobuf\\runtime_version.py:98: UserWarning: Protobuf gencode version 5.28.3 is exactly one major version older than the runtime version 6.31.1 at tensorflow/core/framework/function.proto. Please update the gencode to avoid compatibility violations in the next runtime release.\n",
      "  warnings.warn(\n",
      "C:\\Users\\dell\\AppData\\Roaming\\Python\\Python313\\site-packages\\google\\protobuf\\runtime_version.py:98: UserWarning: Protobuf gencode version 5.28.3 is exactly one major version older than the runtime version 6.31.1 at tensorflow/core/framework/node_def.proto. Please update the gencode to avoid compatibility violations in the next runtime release.\n",
      "  warnings.warn(\n",
      "C:\\Users\\dell\\AppData\\Roaming\\Python\\Python313\\site-packages\\google\\protobuf\\runtime_version.py:98: UserWarning: Protobuf gencode version 5.28.3 is exactly one major version older than the runtime version 6.31.1 at tensorflow/core/framework/op_def.proto. Please update the gencode to avoid compatibility violations in the next runtime release.\n",
      "  warnings.warn(\n",
      "C:\\Users\\dell\\AppData\\Roaming\\Python\\Python313\\site-packages\\google\\protobuf\\runtime_version.py:98: UserWarning: Protobuf gencode version 5.28.3 is exactly one major version older than the runtime version 6.31.1 at tensorflow/core/framework/graph.proto. Please update the gencode to avoid compatibility violations in the next runtime release.\n",
      "  warnings.warn(\n",
      "C:\\Users\\dell\\AppData\\Roaming\\Python\\Python313\\site-packages\\google\\protobuf\\runtime_version.py:98: UserWarning: Protobuf gencode version 5.28.3 is exactly one major version older than the runtime version 6.31.1 at tensorflow/core/framework/graph_debug_info.proto. Please update the gencode to avoid compatibility violations in the next runtime release.\n",
      "  warnings.warn(\n",
      "C:\\Users\\dell\\AppData\\Roaming\\Python\\Python313\\site-packages\\google\\protobuf\\runtime_version.py:98: UserWarning: Protobuf gencode version 5.28.3 is exactly one major version older than the runtime version 6.31.1 at tensorflow/core/framework/versions.proto. Please update the gencode to avoid compatibility violations in the next runtime release.\n",
      "  warnings.warn(\n",
      "C:\\Users\\dell\\AppData\\Roaming\\Python\\Python313\\site-packages\\google\\protobuf\\runtime_version.py:98: UserWarning: Protobuf gencode version 5.28.3 is exactly one major version older than the runtime version 6.31.1 at tensorflow/core/protobuf/config.proto. Please update the gencode to avoid compatibility violations in the next runtime release.\n",
      "  warnings.warn(\n",
      "C:\\Users\\dell\\AppData\\Roaming\\Python\\Python313\\site-packages\\google\\protobuf\\runtime_version.py:98: UserWarning: Protobuf gencode version 5.28.3 is exactly one major version older than the runtime version 6.31.1 at xla/tsl/protobuf/coordination_config.proto. Please update the gencode to avoid compatibility violations in the next runtime release.\n",
      "  warnings.warn(\n",
      "C:\\Users\\dell\\AppData\\Roaming\\Python\\Python313\\site-packages\\google\\protobuf\\runtime_version.py:98: UserWarning: Protobuf gencode version 5.28.3 is exactly one major version older than the runtime version 6.31.1 at tensorflow/core/framework/cost_graph.proto. Please update the gencode to avoid compatibility violations in the next runtime release.\n",
      "  warnings.warn(\n",
      "C:\\Users\\dell\\AppData\\Roaming\\Python\\Python313\\site-packages\\google\\protobuf\\runtime_version.py:98: UserWarning: Protobuf gencode version 5.28.3 is exactly one major version older than the runtime version 6.31.1 at tensorflow/core/framework/step_stats.proto. Please update the gencode to avoid compatibility violations in the next runtime release.\n",
      "  warnings.warn(\n",
      "C:\\Users\\dell\\AppData\\Roaming\\Python\\Python313\\site-packages\\google\\protobuf\\runtime_version.py:98: UserWarning: Protobuf gencode version 5.28.3 is exactly one major version older than the runtime version 6.31.1 at tensorflow/core/framework/allocation_description.proto. Please update the gencode to avoid compatibility violations in the next runtime release.\n",
      "  warnings.warn(\n",
      "C:\\Users\\dell\\AppData\\Roaming\\Python\\Python313\\site-packages\\google\\protobuf\\runtime_version.py:98: UserWarning: Protobuf gencode version 5.28.3 is exactly one major version older than the runtime version 6.31.1 at tensorflow/core/framework/tensor_description.proto. Please update the gencode to avoid compatibility violations in the next runtime release.\n",
      "  warnings.warn(\n",
      "C:\\Users\\dell\\AppData\\Roaming\\Python\\Python313\\site-packages\\google\\protobuf\\runtime_version.py:98: UserWarning: Protobuf gencode version 5.28.3 is exactly one major version older than the runtime version 6.31.1 at tensorflow/core/protobuf/cluster.proto. Please update the gencode to avoid compatibility violations in the next runtime release.\n",
      "  warnings.warn(\n",
      "C:\\Users\\dell\\AppData\\Roaming\\Python\\Python313\\site-packages\\google\\protobuf\\runtime_version.py:98: UserWarning: Protobuf gencode version 5.28.3 is exactly one major version older than the runtime version 6.31.1 at tensorflow/core/protobuf/debug.proto. Please update the gencode to avoid compatibility violations in the next runtime release.\n",
      "  warnings.warn(\n"
     ]
    }
   ],
   "source": [
    "import torch\n",
    "import torch.nn as nn\n",
    "import torch.nn.functional as F\n",
    "import torch.optim as optim\n",
    "import torchvision\n",
    "import torchvision.datasets as datasets\n",
    "import torchvision.transforms as transforms\n",
    "import matplotlib.pyplot as plt\n",
    "from torch.utils.data import DataLoader, TensorDataset \n",
    "import numpy as np\n",
    "import itertools\n",
    "import seaborn as sns\n",
    "from torch.utils.tensorboard import SummaryWriter\n",
    "import tensorflow\n",
    "import sklearn\n",
    "\n"
   ]
  },
  {
   "cell_type": "markdown",
   "metadata": {},
   "source": [
    "## preparing the data using PyTorch\n",
    "    1. extract-get the data from Fashion MNIST IMAGE DATA \n",
    "    2. Transform put the data in a tensor \n",
    "    3. Load- put the data into an object to make it accessible\n"
   ]
  },
  {
   "cell_type": "code",
   "execution_count": null,
   "metadata": {},
   "outputs": [],
   "source": [
    "# this piece of code is unnecessary if we're using a standard dataset already available in torchvision.datasets \n",
    "# but its a great example to show whats happening under the hood in pytorch\n",
    "# to create a dataset in pytorch we need to extend the torch.utils.data.Dataset class\n",
    "# and implement the following methods:\n",
    "\n",
    "class OHLC(Dataset):\n",
    "    def __init__(self, csv_file):\n",
    "        self.data = pd.read_csv(csv_file)\n",
    "    def __getitem__(self,index):\n",
    "        r = self.data.iloc[index]\n",
    "        label = torch.tensor(r.is_up_day, dtype=torch.long)\n",
    "        sample = self.normalize(torch.tensor([r.open, r.high, r.low, r.close]))\n",
    "        return sample,label\n",
    "    def __len__(self):\n",
    "        return len(self.data)\n",
    "# we can create a dataset object by passing the csv file as an argument to the constructor\n",
    "# and then we can use the dataset object to create a dataloader object by passing it to the DataLoader class\n",
    "# and then we can use the dataloader object to iterate over the dataset in batches.\n",
    "# we can also use the dataloader object to get the number of samples in the dataset.\n",
    "# we can also use the dataloader object to get the number of batches in the dataset\n"
   ]
  },
  {
   "cell_type": "code",
   "execution_count": 2,
   "metadata": {},
   "outputs": [],
   "source": [
    "# we're going to ETL the Fashion MNIST dataset\n",
    "\n",
    "train_set = datasets.FashionMNIST(\n",
    "    root=\"./data/FashionMNIST\",\n",
    "    train=True,\n",
    "    download=True,\n",
    "    transform=transforms.Compose([\n",
    "        transforms.ToTensor()])\n",
    ")\n",
    "train_loader = DataLoader(train_set,batch_size=10)"
   ]
  },
  {
   "cell_type": "code",
   "execution_count": 3,
   "metadata": {},
   "outputs": [
    {
     "name": "stdout",
     "output_type": "stream",
     "text": [
      "tensor([9, 0, 0,  ..., 3, 0, 5])\n"
     ]
    },
    {
     "data": {
      "text/plain": [
       "tensor([6000, 6000, 6000, 6000, 6000, 6000, 6000, 6000, 6000, 6000])"
      ]
     },
     "execution_count": 3,
     "metadata": {},
     "output_type": "execute_result"
    }
   ],
   "source": [
    "# in our case the dataset is balanced as the bins have equal number of samples\n",
    "# but if we encounter a case of unbalanced dataset then we can use oversampling and undersampling techniques and stratified sampling\n",
    "# we can also use a combination of these techniques to get a balanced dataset \n",
    "# it might be a burden on memory but it yields better resutls \n",
    "\n",
    "torch.set_printoptions(linewidth=120)\n",
    "len(train_set)\n",
    "print(train_set.targets) # targets are the labels of the train data\n",
    "train_set.targets.bincount()\n",
    "# we can see that the bins are balanced"
   ]
  },
  {
   "cell_type": "markdown",
   "metadata": {},
   "source": [
    "regarding the paper \n",
    "**\" A systematic study of the class imbalance problem in convolutional neural networks\"** by\n",
    "https://arxiv.org/abs/1710.05381\n",
    "\n",
    "i quote from the paper : \"Regarding performance of different methods for addressing imbalance, in almost all of the situations oversampling emerged as the best method.\"\n"
   ]
  },
  {
   "cell_type": "code",
   "execution_count": 4,
   "metadata": {},
   "outputs": [
    {
     "name": "stdout",
     "output_type": "stream",
     "text": [
      "2\n"
     ]
    }
   ],
   "source": [
    "# Accessing data in the training set\n",
    "# we use the python built in function iter(),which returns an object representing a stream of data.\n",
    "# The function next() takes this object and returns the next value from the stream.\n",
    "# We can use this to iterate over the data\n",
    "# we get 2 because the data is a tuple of 2 elements, a pair of image and its label\n",
    "\n",
    "sample = next(iter(train_set))\n",
    "print(len(sample))\n",
    "\n",
    "# we can destruct it or sequence unpacking \n",
    "image = sample[0]\n",
    "label = sample[1]\n"
   ]
  },
  {
   "cell_type": "code",
   "execution_count": 5,
   "metadata": {},
   "outputs": [
    {
     "name": "stdout",
     "output_type": "stream",
     "text": [
      "label: 9\n"
     ]
    },
    {
     "data": {
      "image/png": "[encoded data removed]",
      "text/plain": [
       "<Figure size 640x480 with 1 Axes>"
      ]
     },
     "metadata": {},
     "output_type": "display_data"
    }
   ],
   "source": [
    "plt.imshow(image.squeeze(), cmap='gray')\n",
    "print('label:',label)\n",
    "plt.show()"
   ]
  },
  {
   "cell_type": "code",
   "execution_count": 6,
   "metadata": {},
   "outputs": [
    {
     "data": {
      "image/png": "[encoded data removed]",
      "text/plain": [
       "<Figure size 1500x1500 with 1 Axes>"
      ]
     },
     "metadata": {},
     "output_type": "display_data"
    }
   ],
   "source": [
    "batch= next(iter(train_loader))\n",
    "images, labels = batch\n",
    "\n",
    "grid= torchvision.utils.make_grid(images,nrow=10)\n",
    "plt.figure(figsize=(15,15))\n",
    "plt.imshow(np.transpose(grid,(1,2,0)))\n",
    "plt.title(\"Labels: \"+ str(labels))\n",
    "plt.show()"
   ]
  },
  {
   "cell_type": "code",
   "execution_count": 7,
   "metadata": {},
   "outputs": [],
   "source": [
    "class Network(nn.Module): \n",
    "    def __init__(self,channels=1):\n",
    "        super().__init__()\n",
    "        # PyTorch's nn.Module class keeps tracks of the wieghts tensors and biases inside each layer, so we pass them as arguments to the constructor\n",
    "        # sets in_channels is for the color channels, if we're working with non linear layers out_channels is the number of filters; one filter gives one output channel/ features , if we're working with linear layers we out_feature sets the size of the output tensor, kernel_size is the size of the kernel/ convolutional filter\n",
    "        # one common thing when building CNN layers is to increase the number of out_channels as we go through the layers, and decrease the number of out_features as we go through linear layers\n",
    " \n",
    "        self.conv1 = nn.Conv2d(in_channels=channels, out_channels=6, kernel_size=5) # 2 convolutional layers \n",
    "        # Second conv with padding=2 to maintain dimensions after pooling\n",
    "        self.conv2 = nn.Conv2d(in_channels=6, out_channels=12, kernel_size=5) # we add a stride that is now 1 by default, to tell the filter how many units to move up and down \n",
    "        # 3 fully connected layers/ linear layers/ dense layers\n",
    "        self.fc1 = nn.Linear(in_features=12*4*4, out_features=120) # when we switch from convolutional layers to linear layers we need to flatten the output of the convolutional layers this is why we have 12*4*4 , the 12 is the number of output channels from the second convolutional layer, 4*4 means output of the last CNN is 4x4 image/filter:outputSizeOfCov = [(inputSize + 2*pad - filterSize)/stride] + 1\n",
    "        self.fc2 = nn.Linear(in_features=120, out_features=60)# in_features depend on the previous layer's out_features\n",
    "        self.out = nn.Linear(in_features=60, out_features=10) # 10 out_features here are the predicted classes, in this case 10 classes for the Fashion MNIST dataset\n",
    "# Note: in linear layers by default the bias is set to True \n",
    "# All filters are represented using a single tensor.\n",
    "# Filters have depth that accounts for the input channels.\n",
    "# conv weight tensors are of rank 4 (numbers of filters, in_channels, height, width)\n",
    "# linear weight tensors are of rank 2 (out_features,in_features) (H,W) \n",
    "    def forward(self, t):\n",
    "        # (1) input layer\n",
    "        t = t\n",
    "        \n",
    "        # (2) hidden conv layer\n",
    "        t = self.conv1(t)\n",
    "        t = F.relu(t) # activation_function='relu' in tf.keras      \n",
    "        t = F.max_pool2d(t, kernel_size=2, stride=2)\n",
    "        \n",
    "        # (3) hidden conv layer\n",
    "        t = self.conv2(t)\n",
    "        t = F.relu(t)\n",
    "        t = F.max_pool2d(t, kernel_size=2, stride=2)\n",
    "\n",
    "        # (4) hidden linear layer\n",
    "        t = t.reshape(-1, 12*4*4)\n",
    "        t = self.fc1(t)\n",
    "        t = F.relu(t) # activation_funcion='relu' in tf.keras\n",
    "        \n",
    "        # (5) hidden linear layer\n",
    "        t = self.fc2(t)\n",
    "        t = F.relu(t)\n",
    "        \n",
    "        # (6) output layer\n",
    "        t = self.out(t)\n",
    "        #t = F.softmax(t, dim=1) # first index is batch\n",
    "        return t\n",
    "    \n",
    "    #def __repr__(self): # just an example pn some Python OOP that u may help u when debugging\n",
    "    #    return \"this overrides the official string representation of the object\" "
   ]
  },
  {
   "cell_type": "code",
   "execution_count": 8,
   "metadata": {},
   "outputs": [
    {
     "name": "stdout",
     "output_type": "stream",
     "text": [
      "loss:  tensor(2.3167, grad_fn=<NllLossBackward0>)\n",
      "no. correct: tensor(1)\n"
     ]
    },
    {
     "data": {
      "text/plain": [
       "torch.Size([6, 1, 5, 5])"
      ]
     },
     "execution_count": 8,
     "metadata": {},
     "output_type": "execute_result"
    }
   ],
   "source": [
    "# initialize a network\n",
    "network = Network() \n",
    "\n",
    "def get_num_correct(preds, labels):\n",
    "    return (preds.argmax(dim=1) == labels).sum()\n",
    "\n",
    "F.cross_entropy(torch.tensor([[3, 6, 2], [1, 1, 2]]).float(), torch.tensor([2, 1]))\n",
    "\n",
    "softmax = lambda a: np.exp(a) / np.exp(a).sum()\n",
    "\n",
    "(-np.log(softmax(np.array([3,6,2])))[2] + -np.log(softmax(np.array([1,1,2])))[1])/2 # averages\n",
    "\n",
    "optimizer = optim.Adam(network.parameters(), lr=0.01) # optimizer has access to network parameters\n",
    "\n",
    "network.conv1.weight.grad is None\n",
    "preds = network(images)\n",
    "loss = F.cross_entropy(preds, labels) \n",
    "\n",
    "print('loss: ', loss) \n",
    "print('no. correct:', get_num_correct(preds, labels)) # out of 100\n",
    "\n",
    "loss.backward() # backprop, looks at definition of loss and crawls backward into the network\n",
    "network.conv1.weight.grad.shape # gradients updated after one pass of backprop"
   ]
  },
  {
   "cell_type": "code",
   "execution_count": 9,
   "metadata": {},
   "outputs": [
    {
     "name": "stdout",
     "output_type": "stream",
     "text": [
      "loss after backprop:  tensor(2.2388, grad_fn=<NllLossBackward0>) no. correct: tensor(2)\n"
     ]
    }
   ],
   "source": [
    "optimizer.step() # based on our new loss gradient values, we update weights accdg to Adam to minimize loss.\n",
    "\n",
    "preds = network(images) # run new predictions\n",
    "loss = F.cross_entropy(preds, labels) \n",
    "print('loss after backprop: ', loss, 'no. correct:', get_num_correct(preds, labels))"
   ]
  },
  {
   "cell_type": "code",
   "execution_count": 10,
   "metadata": {},
   "outputs": [
    {
     "name": "stdout",
     "output_type": "stream",
     "text": [
      "Step 0:\n",
      "2.350571393966675\n",
      "tensor(0)\n",
      "\n",
      "Step 1:\n",
      "2.2857930660247803\n",
      "tensor(2)\n"
     ]
    }
   ],
   "source": [
    "#Training one batch\n",
    "\n",
    "# compile the neural net\n",
    "network = Network()\n",
    "optimizer = optim.Adam(network.parameters(), lr=0.01)\n",
    "\n",
    "\n",
    "# loss\n",
    "loss = F.cross_entropy(network(images), labels)\n",
    "print(\"Step 0:\")\n",
    "print(loss.item())\n",
    "print(get_num_correct(network(images), labels))\n",
    "\n",
    "# backprop\n",
    "loss.backward()  # update gradients\n",
    "optimizer.step() # update weights using gradients to minimize loss\n",
    "\n",
    "# recalculating loss based on new weights\n",
    "loss = F.cross_entropy(network(images), labels)\n",
    "print(\"\\nStep 1:\")\n",
    "print(loss.item())\n",
    "print(get_num_correct(network(images), labels))"
   ]
  },
  {
   "cell_type": "code",
   "execution_count": 13,
   "metadata": {},
   "outputs": [
    {
     "name": "stdout",
     "output_type": "stream",
     "text": [
      "epoch: 0 total_correct: tensor(45379) loss: 380.0166459083557\n"
     ]
    }
   ],
   "source": [
    "#Training a single epoch\n",
    "\n",
    "train_loader = torch.utils.data.DataLoader(train_set, batch_size=100) \n",
    "\n",
    "network = Network()\n",
    "optimizer = optim.Adam(network.parameters(), lr=0.01)\n",
    "\n",
    "total_loss = 0\n",
    "total_correct = 0\n",
    "for batch in train_loader:\n",
    "    images, labels = batch \n",
    "\n",
    "    preds = network(images) \n",
    "    loss = F.cross_entropy(preds, labels) \n",
    "\n",
    "    optimizer.zero_grad() \n",
    "    loss.backward()  # calculate gradients\n",
    "    optimizer.step() # update weights using gradients using adam\n",
    "\n",
    "    total_loss += loss.item()\n",
    "    total_correct += get_num_correct(preds, labels)\n",
    "    \n",
    "print(\n",
    "    \"epoch:\", 0, \n",
    "    \"total_correct:\", total_correct, \n",
    "    \"loss:\", total_loss\n",
    ")"
   ]
  },
  {
   "cell_type": "code",
   "execution_count": 15,
   "metadata": {},
   "outputs": [
    {
     "name": "stdout",
     "output_type": "stream",
     "text": [
      "tensor(1.1998)\n"
     ]
    }
   ],
   "source": [
    "if network.conv1.weight.grad is not None:\n",
    "    print(network.conv1.weight.grad.sum())\n",
    "else:\n",
    "    print(\"No gradients computed yet\")\n"
   ]
  },
  {
   "cell_type": "code",
   "execution_count": 16,
   "metadata": {},
   "outputs": [
    {
     "name": "stdout",
     "output_type": "stream",
     "text": [
      "epoch 0 total_correct: tensor(47719) loss: 324.959082454443\n",
      "epoch 1 total_correct: tensor(51605) loss: 224.59134384989738\n",
      "epoch 2 total_correct: tensor(52353) loss: 205.31755885481834\n",
      "epoch 3 total_correct: tensor(52815) loss: 195.77987752854824\n",
      "epoch 4 total_correct: tensor(52925) loss: 189.5943547040224\n",
      "epoch 5 total_correct: tensor(53135) loss: 184.88502830266953\n",
      "epoch 6 total_correct: tensor(53212) loss: 183.10018488764763\n",
      "epoch 7 total_correct: tensor(53416) loss: 177.53898786008358\n",
      "epoch 8 total_correct: tensor(53282) loss: 179.6652434170246\n",
      "epoch 9 total_correct: tensor(53448) loss: 177.2940489128232\n"
     ]
    }
   ],
   "source": [
    "#Training with multiple epochs\n",
    "train_loader = torch.utils.data.DataLoader(train_set, batch_size=100)\n",
    "\n",
    "network = Network()\n",
    "optimizer = optim.Adam(network.parameters(), lr=0.01)\n",
    "\n",
    "for epoch in range(10):    \n",
    "    total_loss = 0\n",
    "    total_correct = 0\n",
    "    \n",
    "    for batch in train_loader:    \n",
    "        images, labels = batch \n",
    "        preds = network(images)\n",
    "        loss = F.cross_entropy(preds, labels) # check that loss tensor has a gradient attribute\n",
    "                                              # so that line 17 makes sense\n",
    "        optimizer.zero_grad() # set all gradients to zero\n",
    "        loss.backward() # calculate gradient\n",
    "        optimizer.step() # update Weights\n",
    "\n",
    "        total_loss += loss.item()\n",
    "        total_correct += get_num_correct(preds, labels)\n",
    "\n",
    "    print(\n",
    "        \"epoch\", epoch, \n",
    "        \"total_correct:\", total_correct, \n",
    "        \"loss:\", total_loss\n",
    "    )"
   ]
  },
  {
   "cell_type": "markdown",
   "metadata": {},
   "source": [
    "train accuracy is 53448/60000 (0.891)"
   ]
  },
  {
   "cell_type": "markdown",
   "metadata": {},
   "source": [
    "### **TensorBoard: TensorFlow's Visualization Toolkit**\n",
    "TensorBoard provides the visualization and tooling needed for machine learning experimentation:\n",
    "\n",
    "    1. Tracking and visualizing metrics such as loss and accuracy\n",
    "    2. Visualizing the model graph (ops and layers)\n",
    "    3. Viewing histograms of weights, biases, or other tensors as they change over time\n",
    "    4. Projecting embeddings to a lower dimensional space\n",
    "    5. Displaying images, text, and audio data\n",
    "    6. Visualizing the execution of a TensorFlow graph\n",
    "    7. Visualizing a TensorFlow program's execution\n",
    "    8. Profiling TensorFlow programs\n",
    "    And much more"
   ]
  },
  {
   "cell_type": "code",
   "execution_count": 19,
   "metadata": {},
   "outputs": [
    {
     "name": "stdout",
     "output_type": "stream",
     "text": [
      "2.7.1+cpu\n"
     ]
    },
    {
     "name": "stderr",
     "output_type": "stream",
     "text": [
      "C:\\Users\\dell\\AppData\\Roaming\\Python\\Python313\\site-packages\\tensorboard\\default.py:30: UserWarning: pkg_resources is deprecated as an API. See https://setuptools.pypa.io/en/latest/pkg_resources.html. The pkg_resources package is slated for removal as early as 2025-11-30. Refrain from using this package or pin to Setuptools<81.\n",
      "  import pkg_resources\n",
      "Traceback (most recent call last):\n",
      "  File \u001b[35m\"<frozen runpy>\"\u001b[0m, line \u001b[35m198\u001b[0m, in \u001b[35m_run_module_as_main\u001b[0m\n",
      "  File \u001b[35m\"<frozen runpy>\"\u001b[0m, line \u001b[35m88\u001b[0m, in \u001b[35m_run_code\u001b[0m\n",
      "  File \u001b[35m\"c:\\Users\\dell\\AppData\\Roaming\\Python\\Python313\\Scripts\\tensorboard.exe\\__main__.py\"\u001b[0m, line \u001b[35m4\u001b[0m, in \u001b[35m<module>\u001b[0m\n",
      "    from tensorboard.main import run_main\n",
      "  File \u001b[35m\"C:\\Users\\dell\\AppData\\Roaming\\Python\\Python313\\site-packages\\tensorboard\\main.py\"\u001b[0m, line \u001b[35m27\u001b[0m, in \u001b[35m<module>\u001b[0m\n",
      "    from tensorboard import default\n",
      "  File \u001b[35m\"C:\\Users\\dell\\AppData\\Roaming\\Python\\Python313\\site-packages\\tensorboard\\default.py\"\u001b[0m, line \u001b[35m40\u001b[0m, in \u001b[35m<module>\u001b[0m\n",
      "    from tensorboard.plugins.image import images_plugin\n",
      "  File \u001b[35m\"C:\\Users\\dell\\AppData\\Roaming\\Python\\Python313\\site-packages\\tensorboard\\plugins\\image\\images_plugin.py\"\u001b[0m, line \u001b[35m18\u001b[0m, in \u001b[35m<module>\u001b[0m\n",
      "    import imghdr\n",
      "\u001b[1;35mModuleNotFoundError\u001b[0m: \u001b[35mNo module named 'imghdr'\u001b[0m\n"
     ]
    }
   ],
   "source": [
    "print(torch.__version__)\n",
    "!tensorboard --version"
   ]
  },
  {
   "cell_type": "code",
   "execution_count": 25,
   "metadata": {},
   "outputs": [],
   "source": [
    "\n",
    "tb = SummaryWriter()\n",
    "network = Network()\n",
    "\n",
    "images, labels = next(iter(train_loader))\n",
    "grid = torchvision.utils.make_grid(images)\n",
    "tb.add_image('images', grid)\n",
    "tb.add_graph(network, images)\n",
    "\n",
    "tb.close()"
   ]
  },
  {
   "cell_type": "code",
   "execution_count": 26,
   "metadata": {},
   "outputs": [
    {
     "name": "stdout",
     "output_type": "stream",
     "text": [
      "epoch 0 train_acc tensor(0.6970) loss: 477.0766302347183\n",
      "epoch 1 train_acc tensor(0.8063) loss: 307.8935236334801\n",
      "epoch 2 train_acc tensor(0.8407) loss: 260.4904620051384\n",
      "epoch 3 train_acc tensor(0.8589) loss: 231.5982717424631\n",
      "epoch 4 train_acc tensor(0.8694) loss: 213.44451256096363\n",
      "epoch 5 train_acc tensor(0.8774) loss: 199.79611791670322\n",
      "epoch 6 train_acc tensor(0.8840) loss: 189.5195411592722\n",
      "epoch 7 train_acc tensor(0.8889) loss: 181.08475697040558\n",
      "epoch 8 train_acc tensor(0.8936) loss: 173.766216263175\n",
      "epoch 9 train_acc tensor(0.8964) loss: 168.2620684877038\n"
     ]
    }
   ],
   "source": [
    "\n",
    "\n",
    "\n",
    "\n",
    "# Compile network\n",
    "network = Network()\n",
    "optimizer = optim.Adam(network.parameters(), lr=0.001)\n",
    "\n",
    "# Initialize tensorboard\n",
    "tb = SummaryWriter() # from torch.utils.tensorboard import SummaryWriter\n",
    "\n",
    "# Training\n",
    "for epoch in range(10): \n",
    "    total_loss = 0\n",
    "    total_correct = 0\n",
    "    \n",
    "    for batch in train_loader:\n",
    "        images, labels = batch \n",
    "        preds = network(images)\n",
    "        \n",
    "        loss = F.cross_entropy(preds, labels) # loss function\n",
    "        optimizer.zero_grad()                 # set all gradients to zero\n",
    "        \n",
    "        loss.backward()         # calculate gradients, training points are supply constants\n",
    "        optimizer.step()        # update weights to minimize loss (accdg to adam)\n",
    "\n",
    "        total_loss += loss.item() \n",
    "        total_correct += get_num_correct(preds, labels)\n",
    "    \n",
    "    tb.add_scalar('Loss', total_loss, epoch)\n",
    "    tb.add_scalar('Number Correct', total_correct, epoch)\n",
    "    tb.add_scalar('Accuracy', total_correct / len(train_set), epoch)\n",
    "    \n",
    "    tb.add_histogram('conv1.bias', network.conv1.bias, epoch)\n",
    "    tb.add_histogram('conv1.weight', network.conv1.weight, epoch)\n",
    "    tb.add_histogram('conv1.weight.grad', network.conv1.weight.grad, epoch)\n",
    "    print(\"epoch\", epoch, \"train_acc\", total_correct / 60000, \"loss:\", total_loss)\n",
    "\n",
    "tb.close()"
   ]
  },
  {
   "cell_type": "code",
   "execution_count": 27,
   "metadata": {},
   "outputs": [],
   "source": [
    "\n",
    "\n",
    "def train(lr, batch_size, shuffle, num_epochs=5):\n",
    "    # data loader\n",
    "    train_loader = torch.utils.data.DataLoader(train_set, batch_size=batch_size, shuffle=shuffle)\n",
    "\n",
    "    # compile network\n",
    "    network = Network()\n",
    "    optimizer = optim.Adam(network.parameters(), lr=lr)\n",
    "\n",
    "    # Initialize tensorboard\n",
    "    tb = SummaryWriter(comment=f' lr={lr} batch_size={batch_size} shuffle={shuffle}') # this is appended\n",
    "    \n",
    "    # Training\n",
    "    print('\\nlr=', lr, 'batch_size=', batch_size, 'shuffle=', shuffle)\n",
    "    for epoch in range(num_epochs): \n",
    "        total_loss = 0\n",
    "        total_correct = 0\n",
    "\n",
    "        for batch in train_loader:\n",
    "            images, labels = batch \n",
    "            preds = network(images)\n",
    "\n",
    "            loss = F.cross_entropy(preds, labels) \n",
    "            \n",
    "            optimizer.zero_grad()                 \n",
    "            loss.backward()         \n",
    "            optimizer.step()        \n",
    "\n",
    "            total_loss += loss.item()*batch_size             # get absolute loss \n",
    "            total_correct += get_num_correct(preds, labels)\n",
    "\n",
    "        tb.add_scalar('Loss', total_loss, epoch)\n",
    "        tb.add_scalar('Number Correct', total_correct, epoch)\n",
    "        tb.add_scalar('Accuracy', total_correct / len(train_set), epoch)\n",
    "\n",
    "        tb.add_histogram('conv1.bias', network.conv1.bias, epoch)\n",
    "        tb.add_histogram('conv1.weight', network.conv1.weight, epoch)\n",
    "        tb.add_histogram('conv1.weight.grad', network.conv1.weight.grad, epoch)\n",
    "\n",
    "        print(\"epoch\", epoch, \"\\t train_acc\", total_correct / len(train_set), \"\\t loss:\", total_loss)\n",
    "\n",
    "    tb.close()"
   ]
  },
  {
   "cell_type": "code",
   "execution_count": 29,
   "metadata": {},
   "outputs": [
    {
     "name": "stdout",
     "output_type": "stream",
     "text": [
      "\n",
      "lr= 0.1 batch_size= 10 shuffle= True\n",
      "epoch 0 \t train_acc tensor(0.1026) \t loss: 140034.82088804245\n",
      "epoch 1 \t train_acc tensor(0.0992) \t loss: 139563.37186574936\n",
      "epoch 2 \t train_acc tensor(0.0997) \t loss: 139587.29279994965\n",
      "epoch 3 \t train_acc tensor(0.1014) \t loss: 139564.21141147614\n",
      "epoch 4 \t train_acc tensor(0.0997) \t loss: 139527.795317173\n",
      "epoch 5 \t train_acc tensor(0.1015) \t loss: 139481.81215763092\n",
      "epoch 6 \t train_acc tensor(0.0994) \t loss: 139517.7787733078\n",
      "epoch 7 \t train_acc tensor(0.0973) \t loss: 139589.9741768837\n",
      "epoch 8 \t train_acc tensor(0.1000) \t loss: 139563.27685117722\n",
      "epoch 9 \t train_acc tensor(0.1000) \t loss: 139540.8569598198\n",
      "\n",
      "lr= 0.1 batch_size= 10 shuffle= False\n",
      "epoch 0 \t train_acc tensor(0.1021) \t loss: 139658.3265209198\n",
      "epoch 1 \t train_acc tensor(0.1021) \t loss: 139448.97980213165\n",
      "epoch 2 \t train_acc tensor(0.1021) \t loss: 139448.97879838943\n",
      "epoch 3 \t train_acc tensor(0.1021) \t loss: 139448.9786529541\n",
      "epoch 4 \t train_acc tensor(0.1021) \t loss: 139448.978703022\n",
      "epoch 5 \t train_acc tensor(0.1021) \t loss: 139448.97867679596\n",
      "epoch 6 \t train_acc tensor(0.1021) \t loss: 139448.97871017456\n",
      "epoch 7 \t train_acc tensor(0.1021) \t loss: 139448.97867918015\n",
      "epoch 8 \t train_acc tensor(0.1021) \t loss: 139448.97874355316\n",
      "epoch 9 \t train_acc tensor(0.1021) \t loss: 139448.97877693176\n",
      "\n",
      "lr= 0.1 batch_size= 100 shuffle= True\n",
      "epoch 0 \t train_acc tensor(0.1000) \t loss: 150735.3367805481\n",
      "epoch 1 \t train_acc tensor(0.0980) \t loss: 138597.31061458588\n",
      "epoch 2 \t train_acc tensor(0.0992) \t loss: 138573.3451604843\n",
      "epoch 3 \t train_acc tensor(0.1005) \t loss: 138549.4908809662\n",
      "epoch 4 \t train_acc tensor(0.1007) \t loss: 138572.1785068512\n",
      "epoch 5 \t train_acc tensor(0.1010) \t loss: 138603.18875312805\n",
      "epoch 6 \t train_acc tensor(0.1019) \t loss: 138539.73512649536\n",
      "epoch 7 \t train_acc tensor(0.0987) \t loss: 138570.36147117615\n",
      "epoch 8 \t train_acc tensor(0.0981) \t loss: 138617.81334877014\n",
      "epoch 9 \t train_acc tensor(0.1000) \t loss: 138595.92294692993\n",
      "\n",
      "lr= 0.1 batch_size= 100 shuffle= False\n",
      "epoch 0 \t train_acc tensor(0.0994) \t loss: 142955.20207881927\n",
      "epoch 1 \t train_acc tensor(0.0992) \t loss: 138611.19737625122\n",
      "epoch 2 \t train_acc tensor(0.0997) \t loss: 138620.02229690552\n",
      "epoch 3 \t train_acc tensor(0.0998) \t loss: 138623.4926700592\n",
      "epoch 4 \t train_acc tensor(0.0996) \t loss: 138625.09315013885\n",
      "epoch 5 \t train_acc tensor(0.0996) \t loss: 138625.87971687317\n",
      "epoch 6 \t train_acc tensor(0.0996) \t loss: 138626.27956867218\n",
      "epoch 7 \t train_acc tensor(0.0996) \t loss: 138626.48496627808\n",
      "epoch 8 \t train_acc tensor(0.0996) \t loss: 138626.59213542938\n",
      "epoch 9 \t train_acc tensor(0.0996) \t loss: 138626.6473054886\n",
      "\n",
      "lr= 0.1 batch_size= 1000 shuffle= True\n",
      "epoch 0 \t train_acc tensor(0.0996) \t loss: 200411.68880462646\n",
      "epoch 1 \t train_acc tensor(0.0996) \t loss: 138301.55324935913\n",
      "epoch 2 \t train_acc tensor(0.1013) \t loss: 138370.59426307678\n",
      "epoch 3 \t train_acc tensor(0.1032) \t loss: 138268.57018470764\n",
      "epoch 4 \t train_acc tensor(0.1011) \t loss: 138276.98469161987\n",
      "epoch 5 \t train_acc tensor(0.0991) \t loss: 138263.7221813202\n",
      "epoch 6 \t train_acc tensor(0.1007) \t loss: 138219.07114982605\n",
      "epoch 7 \t train_acc tensor(0.1015) \t loss: 138228.9125919342\n",
      "epoch 8 \t train_acc tensor(0.0994) \t loss: 138251.6450881958\n",
      "epoch 9 \t train_acc tensor(0.0993) \t loss: 138238.09957504272\n",
      "\n",
      "lr= 0.1 batch_size= 1000 shuffle= False\n",
      "epoch 0 \t train_acc tensor(0.0999) \t loss: 406487.92839050293\n",
      "epoch 1 \t train_acc tensor(0.0993) \t loss: 138318.83883476257\n",
      "epoch 2 \t train_acc tensor(0.0984) \t loss: 138288.334608078\n",
      "epoch 3 \t train_acc tensor(0.0993) \t loss: 138272.0501422882\n",
      "epoch 4 \t train_acc tensor(0.0992) \t loss: 138289.88981246948\n",
      "epoch 5 \t train_acc tensor(0.0998) \t loss: 138256.39939308167\n",
      "epoch 6 \t train_acc tensor(0.0994) \t loss: 138251.69563293457\n",
      "epoch 7 \t train_acc tensor(0.0993) \t loss: 138247.08223342896\n",
      "epoch 8 \t train_acc tensor(0.0993) \t loss: 138248.60763549805\n",
      "epoch 9 \t train_acc tensor(0.0992) \t loss: 138251.46961212158\n",
      "\n",
      "lr= 0.01 batch_size= 10 shuffle= True\n",
      "epoch 0 \t train_acc tensor(0.7497) \t loss: 39762.435608627275\n",
      "epoch 1 \t train_acc tensor(0.8047) \t loss: 32474.47282521054\n",
      "epoch 2 \t train_acc tensor(0.8102) \t loss: 31936.122927786782\n",
      "epoch 3 \t train_acc tensor(0.8147) \t loss: 31582.056362624862\n",
      "epoch 4 \t train_acc tensor(0.8160) \t loss: 31525.130038124043\n",
      "epoch 5 \t train_acc tensor(0.8158) \t loss: 31810.211445093155\n",
      "epoch 6 \t train_acc tensor(0.8132) \t loss: 32312.281589382328\n",
      "epoch 7 \t train_acc tensor(0.8139) \t loss: 31941.245006220415\n",
      "epoch 8 \t train_acc tensor(0.8164) \t loss: 31553.050964154536\n",
      "epoch 9 \t train_acc tensor(0.8157) \t loss: 32050.781660359353\n",
      "\n",
      "lr= 0.01 batch_size= 10 shuffle= False\n",
      "epoch 0 \t train_acc tensor(0.7551) \t loss: 38511.113920756616\n",
      "epoch 1 \t train_acc tensor(0.7988) \t loss: 32342.784350338625\n",
      "epoch 2 \t train_acc tensor(0.8025) \t loss: 32027.726277667098\n",
      "epoch 3 \t train_acc tensor(0.8054) \t loss: 31771.049491328886\n",
      "epoch 4 \t train_acc tensor(0.8074) \t loss: 31541.02868386195\n",
      "epoch 5 \t train_acc tensor(0.8065) \t loss: 31986.42094234645\n",
      "epoch 6 \t train_acc tensor(0.8094) \t loss: 31403.3505605784\n",
      "epoch 7 \t train_acc tensor(0.8111) \t loss: 31545.866224139463\n",
      "epoch 8 \t train_acc tensor(0.8064) \t loss: 32255.988349895924\n",
      "epoch 9 \t train_acc tensor(0.8057) \t loss: 32561.993888840807\n",
      "\n",
      "lr= 0.01 batch_size= 100 shuffle= True\n",
      "epoch 0 \t train_acc tensor(0.7419) \t loss: 39724.42739009857\n",
      "epoch 1 \t train_acc tensor(0.8423) \t loss: 25638.593864440918\n",
      "epoch 2 \t train_acc tensor(0.8558) \t loss: 23353.64105850458\n",
      "epoch 3 \t train_acc tensor(0.8614) \t loss: 22368.627579510212\n",
      "epoch 4 \t train_acc tensor(0.8657) \t loss: 21789.322094619274\n",
      "epoch 5 \t train_acc tensor(0.8684) \t loss: 21153.03748100996\n",
      "epoch 6 \t train_acc tensor(0.8704) \t loss: 20933.217646181583\n",
      "epoch 7 \t train_acc tensor(0.8723) \t loss: 20696.047462522984\n",
      "epoch 8 \t train_acc tensor(0.8717) \t loss: 20483.241879940033\n",
      "epoch 9 \t train_acc tensor(0.8754) \t loss: 20119.937007129192\n",
      "\n",
      "lr= 0.01 batch_size= 100 shuffle= False\n",
      "epoch 0 \t train_acc tensor(0.7863) \t loss: 33998.285917937756\n",
      "epoch 1 \t train_acc tensor(0.8616) \t loss: 22603.562112152576\n",
      "epoch 2 \t train_acc tensor(0.8748) \t loss: 20387.15229034424\n",
      "epoch 3 \t train_acc tensor(0.8802) \t loss: 19424.070413410664\n",
      "epoch 4 \t train_acc tensor(0.8844) \t loss: 18845.949365198612\n",
      "epoch 5 \t train_acc tensor(0.8853) \t loss: 18771.68480157852\n",
      "epoch 6 \t train_acc tensor(0.8869) \t loss: 18321.576017141342\n",
      "epoch 7 \t train_acc tensor(0.8894) \t loss: 17975.19514411688\n",
      "epoch 8 \t train_acc tensor(0.8901) \t loss: 17772.676495462656\n",
      "epoch 9 \t train_acc tensor(0.8917) \t loss: 17613.481990993023\n",
      "\n",
      "lr= 0.01 batch_size= 1000 shuffle= True\n",
      "epoch 0 \t train_acc tensor(0.6291) \t loss: 58688.59529495239\n",
      "epoch 1 \t train_acc tensor(0.7842) \t loss: 33046.63389921188\n",
      "epoch 2 \t train_acc tensor(0.8287) \t loss: 27366.194158792496\n",
      "epoch 3 \t train_acc tensor(0.8470) \t loss: 24986.468493938446\n",
      "epoch 4 \t train_acc tensor(0.8618) \t loss: 22528.974920511246\n",
      "epoch 5 \t train_acc tensor(0.8693) \t loss: 21300.736784934998\n",
      "epoch 6 \t train_acc tensor(0.8774) \t loss: 19959.605932235718\n",
      "epoch 7 \t train_acc tensor(0.8817) \t loss: 19076.95034146309\n",
      "epoch 8 \t train_acc tensor(0.8867) \t loss: 18280.324295163155\n",
      "epoch 9 \t train_acc tensor(0.8898) \t loss: 17789.39911723137\n",
      "\n",
      "lr= 0.01 batch_size= 1000 shuffle= False\n",
      "epoch 0 \t train_acc tensor(0.6043) \t loss: 61680.209159851074\n",
      "epoch 1 \t train_acc tensor(0.7754) \t loss: 34114.605873823166\n",
      "epoch 2 \t train_acc tensor(0.8154) \t loss: 28942.77137517929\n",
      "epoch 3 \t train_acc tensor(0.8398) \t loss: 25736.837029457092\n",
      "epoch 4 \t train_acc tensor(0.8539) \t loss: 23867.79198050499\n",
      "epoch 5 \t train_acc tensor(0.8669) \t loss: 21655.65636754036\n",
      "epoch 6 \t train_acc tensor(0.8746) \t loss: 20354.241013526917\n",
      "epoch 7 \t train_acc tensor(0.8804) \t loss: 19297.161012887955\n",
      "epoch 8 \t train_acc tensor(0.8863) \t loss: 18461.192101240158\n",
      "epoch 9 \t train_acc tensor(0.8903) \t loss: 17829.514414072037\n",
      "\n",
      "lr= 0.001 batch_size= 10 shuffle= True\n",
      "epoch 0 \t train_acc tensor(0.7761) \t loss: 35521.04614244774\n",
      "epoch 1 \t train_acc tensor(0.8540) \t loss: 23874.1191985365\n",
      "epoch 2 \t train_acc tensor(0.8726) \t loss: 20921.583121991716\n",
      "epoch 3 \t train_acc tensor(0.8801) \t loss: 19326.674278725404\n",
      "epoch 4 \t train_acc tensor(0.8866) \t loss: 18145.85155347275\n",
      "epoch 5 \t train_acc tensor(0.8921) \t loss: 17431.735385036736\n",
      "epoch 6 \t train_acc tensor(0.8974) \t loss: 16655.684291951475\n",
      "epoch 7 \t train_acc tensor(0.9001) \t loss: 16030.586649257748\n",
      "epoch 8 \t train_acc tensor(0.9043) \t loss: 15488.225294648146\n",
      "epoch 9 \t train_acc tensor(0.9071) \t loss: 14965.323514357151\n",
      "\n",
      "lr= 0.001 batch_size= 10 shuffle= False\n",
      "epoch 0 \t train_acc tensor(0.7758) \t loss: 35357.65467272606\n",
      "epoch 1 \t train_acc tensor(0.8581) \t loss: 23140.367087321356\n",
      "epoch 2 \t train_acc tensor(0.8768) \t loss: 19891.644155143294\n",
      "epoch 3 \t train_acc tensor(0.8888) \t loss: 18087.53952150233\n",
      "epoch 4 \t train_acc tensor(0.8937) \t loss: 16969.90565911634\n",
      "epoch 5 \t train_acc tensor(0.8985) \t loss: 16152.513407462975\n",
      "epoch 6 \t train_acc tensor(0.9030) \t loss: 15443.081883220584\n",
      "epoch 7 \t train_acc tensor(0.9060) \t loss: 14852.632883311162\n",
      "epoch 8 \t train_acc tensor(0.9097) \t loss: 14323.601335517305\n",
      "epoch 9 \t train_acc tensor(0.9123) \t loss: 13810.334288645536\n",
      "\n",
      "lr= 0.001 batch_size= 100 shuffle= True\n",
      "epoch 0 \t train_acc tensor(0.7119) \t loss: 46454.638946056366\n",
      "epoch 1 \t train_acc tensor(0.8194) \t loss: 29644.58113014698\n",
      "epoch 2 \t train_acc tensor(0.8475) \t loss: 25263.139525055885\n",
      "epoch 3 \t train_acc tensor(0.8630) \t loss: 22729.412055015564\n",
      "epoch 4 \t train_acc tensor(0.8726) \t loss: 21161.527958512306\n",
      "epoch 5 \t train_acc tensor(0.8806) \t loss: 19837.230575084686\n",
      "epoch 6 \t train_acc tensor(0.8842) \t loss: 19043.965327739716\n",
      "epoch 7 \t train_acc tensor(0.8898) \t loss: 18191.017147898674\n",
      "epoch 8 \t train_acc tensor(0.8927) \t loss: 17658.60045477748\n",
      "epoch 9 \t train_acc tensor(0.8953) \t loss: 17105.407103151083\n",
      "\n",
      "lr= 0.001 batch_size= 100 shuffle= False\n",
      "epoch 0 \t train_acc tensor(0.7048) \t loss: 46156.66282474995\n",
      "epoch 1 \t train_acc tensor(0.8134) \t loss: 29608.480352163315\n",
      "epoch 2 \t train_acc tensor(0.8466) \t loss: 25321.121844649315\n",
      "epoch 3 \t train_acc tensor(0.8601) \t loss: 22974.669182300568\n",
      "epoch 4 \t train_acc tensor(0.8684) \t loss: 21379.941318929195\n",
      "epoch 5 \t train_acc tensor(0.8748) \t loss: 20222.015726566315\n",
      "epoch 6 \t train_acc tensor(0.8813) \t loss: 19265.877304971218\n",
      "epoch 7 \t train_acc tensor(0.8856) \t loss: 18514.13507759571\n",
      "epoch 8 \t train_acc tensor(0.8895) \t loss: 17850.23052841425\n",
      "epoch 9 \t train_acc tensor(0.8928) \t loss: 17277.753686904907\n",
      "\n",
      "lr= 0.001 batch_size= 1000 shuffle= True\n",
      "epoch 0 \t train_acc tensor(0.4744) \t loss: 94079.2156457901\n",
      "epoch 1 \t train_acc tensor(0.7132) \t loss: 46153.071105480194\n",
      "epoch 2 \t train_acc tensor(0.7452) \t loss: 40254.724740982056\n",
      "epoch 3 \t train_acc tensor(0.7704) \t loss: 36642.29917526245\n",
      "epoch 4 \t train_acc tensor(0.7879) \t loss: 34055.71502447128\n",
      "epoch 5 \t train_acc tensor(0.7994) \t loss: 32278.098225593567\n",
      "epoch 6 \t train_acc tensor(0.8103) \t loss: 30642.128348350525\n",
      "epoch 7 \t train_acc tensor(0.8219) \t loss: 29189.040303230286\n",
      "epoch 8 \t train_acc tensor(0.8267) \t loss: 28272.653102874756\n",
      "epoch 9 \t train_acc tensor(0.8362) \t loss: 26889.34016227722\n",
      "\n",
      "lr= 0.001 batch_size= 1000 shuffle= False\n",
      "epoch 0 \t train_acc tensor(0.5144) \t loss: 88920.76599597931\n",
      "epoch 1 \t train_acc tensor(0.7169) \t loss: 44271.225333213806\n",
      "epoch 2 \t train_acc tensor(0.7479) \t loss: 38997.46656417847\n",
      "epoch 3 \t train_acc tensor(0.7675) \t loss: 35988.40355873108\n",
      "epoch 4 \t train_acc tensor(0.7808) \t loss: 33908.0531001091\n",
      "epoch 5 \t train_acc tensor(0.7924) \t loss: 32327.356338500977\n",
      "epoch 6 \t train_acc tensor(0.8048) \t loss: 30841.021686792374\n",
      "epoch 7 \t train_acc tensor(0.8147) \t loss: 29660.408228635788\n",
      "epoch 8 \t train_acc tensor(0.8226) \t loss: 28608.62699151039\n",
      "epoch 9 \t train_acc tensor(0.8303) \t loss: 27658.003270626068\n"
     ]
    }
   ],
   "source": [
    "lr_list = [0.1, 0.01, 0.001]\n",
    "batch_size_list = [10, 100, 1000]\n",
    "shuffle_list = [True, False]\n",
    "\n",
    "# hyperparameter grid search\n",
    "for param in product(lr_list, batch_size_list, shuffle_list):\n",
    "    train(*param, num_epochs=10)"
   ]
  },
  {
   "cell_type": "code",
   "execution_count": 2,
   "metadata": {},
   "outputs": [
    {
     "data": {
      "image/png": "[encoded data removed]",
      "text/plain": [
       "<Figure size 1200x500 with 2 Axes>"
      ]
     },
     "metadata": {},
     "output_type": "display_data"
    }
   ],
   "source": [
    "import matplotlib.image as mpimg\n",
    "import matplotlib.pyplot as plt\n",
    "\n",
    "fig, axs = plt.subplots(1, 2, figsize=(12, 5))\n",
    "\n",
    "img1 = mpimg.imread('images/accuracy.png')\n",
    "axs[0].imshow(img1)\n",
    "axs[0].set_title('Training Accuracy')\n",
    "axs[0].axis('off')\n",
    "\n",
    "img2 = mpimg.imread('images/loss.png')\n",
    "axs[1].imshow(img2)\n",
    "axs[1].set_title('Training Loss')\n",
    "axs[1].axis('off')\n",
    "\n",
    "plt.tight_layout()\n",
    "plt.show()"
   ]
  },
  {
   "cell_type": "markdown",
   "metadata": {},
   "source": [
    "### **Remarks:**\n",
    "\n",
    "For a large learning rate 0.1, the model does not improve beyond 10% accuracy.\n",
    "We can imitate the sklearn API and define .fit(self, dataset, lr, batch_size, shuffle, num_epochs) inside an instance of the network.\n",
    "\n",
    "### **Summary: End-to-end use.**\n",
    "The SummaryWriter object writes to the runs folder information regarding what are written to it during training. TensorBoard then accesses these log files. The interface can be viewed by entering tensorboard --logdir=runs in Terminal.\n",
    "\n",
    "- Import from torch.utils.tensorboard import SummaryWriter\n",
    "- Initialize tb = SummaryWriter()\n",
    "- Write using tb.add_scalar, tb.add_histogram, comments, etc.\n",
    "- Close the writer, tb.close()\n",
    "- View the interface from the terminal tensorboard --logdir=runs.\n",
    "\n",
    "**Early-stopping**\n",
    "We can set a prev_loss variable to save the last loss value calculated (best done for validation loss). If the loss increases beyond a set tolerance (the network starts overfitting), we stop the training."
   ]
  },
  {
   "cell_type": "code",
   "execution_count": 30,
   "metadata": {},
   "outputs": [
    {
     "name": "stdout",
     "output_type": "stream",
     "text": [
      "epoch 0 total_correct: tensor(45402) loss: 379.31063798069954\n",
      "epoch 1 total_correct: tensor(50253) loss: 263.45164558291435\n",
      "epoch 2 total_correct: tensor(51114) loss: 238.57917414605618\n",
      "epoch 3 total_correct: tensor(51582) loss: 227.86232540011406\n",
      "epoch 4 total_correct: tensor(51766) loss: 221.73263746500015\n",
      "epoch 5 total_correct: tensor(51872) loss: 219.1599306613207\n",
      "epoch 6 total_correct: tensor(52094) loss: 213.07448703050613\n",
      "epoch 7 total_correct: tensor(52135) loss: 213.0996966511011\n",
      "epoch 8 total_correct: tensor(52286) loss: 208.63510642945766\n",
      "epoch 9 total_correct: tensor(52338) loss: 206.93188540637493\n"
     ]
    }
   ],
   "source": [
    "\n",
    "class Network(nn.Module):\n",
    "    def __init__(self, channels=1): # default grayscale\n",
    "        super().__init__()\n",
    "        self.conv1 = nn.Conv2d(in_channels=channels, out_channels=6, kernel_size=5) \n",
    "        self.conv2 = nn.Conv2d(in_channels=6, out_channels=12, kernel_size=5)\n",
    "        \n",
    "        self.fc1 = nn.Linear(in_features=12*4*4, out_features=120) # ((28-5+1)/2 -5 +1)/2 = 4\n",
    "        self.fc2 = nn.Linear(in_features=120, out_features=60)\n",
    "        self.out = nn.Linear(in_features=60, out_features=10)\n",
    "        \n",
    "    def forward(self, t):\n",
    "        # (1) input layer\n",
    "        t = t\n",
    "        \n",
    "        # (2) hidden conv layer\n",
    "        t = self.conv1(t)\n",
    "        t = F.relu(t) # activation_function='relu' in tf.keras      \n",
    "        t = F.max_pool2d(t, kernel_size=2, stride=2)\n",
    "        \n",
    "        # (3) hidden conv layer\n",
    "        t = self.conv2(t)\n",
    "        t = F.relu(t)\n",
    "        t = F.max_pool2d(t, kernel_size=2, stride=2)\n",
    "\n",
    "        # (4) hidden linear layer\n",
    "        t = t.reshape(-1, 12*4*4)\n",
    "        t = self.fc1(t)\n",
    "        t = F.relu(t) # activation_funcion='relu' in tf.keras\n",
    "        \n",
    "        # (5) hidden linear layer\n",
    "        t = self.fc2(t)\n",
    "        t = F.relu(t)\n",
    "        \n",
    "        # (6) output layer\n",
    "        t = self.out(t)\n",
    "        #t = F.softmax(t, dim=1) # first index is batch\n",
    "        return t\n",
    "\n",
    "\n",
    "def get_num_correct(preds, labels):\n",
    "    return (preds.argmax(dim=1) == labels).sum()\n",
    "\n",
    "\n",
    "# Get data\n",
    "\n",
    "# Compile network\n",
    "network = Network()\n",
    "optimizer = optim.Adam(network.parameters(), lr=0.01)\n",
    "\n",
    "\n",
    "# Train for 10 epochs\n",
    "for epoch in range(10): \n",
    "    total_loss = 0\n",
    "    total_correct = 0\n",
    "    \n",
    "    for batch in train_loader:\n",
    "        images, labels = batch \n",
    "        preds = network(images)\n",
    "        \n",
    "        loss = F.cross_entropy(preds, labels) # loss function\n",
    "        optimizer.zero_grad()                 # set all gradients to zero\n",
    "        \n",
    "        loss.backward()         # calculate gradients, training points are supply constants\n",
    "        optimizer.step()        # update weights to minimize loss (accdg to adam)\n",
    "\n",
    "        total_loss += loss.item() \n",
    "        total_correct += get_num_correct(preds, labels)\n",
    "        \n",
    "    print(\n",
    "        \"epoch\", epoch, \n",
    "        \"total_correct:\", total_correct, \n",
    "        \"loss:\", total_loss\n",
    "    )"
   ]
  },
  {
   "cell_type": "code",
   "execution_count": 33,
   "metadata": {},
   "outputs": [],
   "source": [
    "@torch.no_grad()\n",
    "def get_all_preds_labels(model, loader): # simple concat\n",
    "    all_preds  = torch.tensor([])\n",
    "    all_labels = torch.tensor([])\n",
    "    for batch in loader:\n",
    "        images, labels = batch\n",
    "        all_preds  = torch.cat((all_preds,  model(images)),  dim=0)\n",
    "        all_labels = torch.cat((all_labels, labels.float()), dim=0)\n",
    "    return all_preds, all_labels\n",
    "\n",
    "\n",
    "with torch.no_grad(): # disable gradient tracking!\n",
    "    train_loader = torch.utils.data.DataLoader(train_set, batch_size=60000)\n",
    "    train_preds, train_labels = get_all_preds_labels(network, train_loader)\n",
    "\n"
   ]
  },
  {
   "cell_type": "code",
   "execution_count": 34,
   "metadata": {},
   "outputs": [
    {
     "data": {
      "text/plain": [
       "torch.Size([60000, 10])"
      ]
     },
     "execution_count": 34,
     "metadata": {},
     "output_type": "execute_result"
    }
   ],
   "source": [
    "train_preds.shape # predictions in the form of probability dists\n"
   ]
  },
  {
   "cell_type": "code",
   "execution_count": 35,
   "metadata": {},
   "outputs": [
    {
     "data": {
      "text/plain": [
       "torch.Size([60000])"
      ]
     },
     "execution_count": 35,
     "metadata": {},
     "output_type": "execute_result"
    }
   ],
   "source": [
    "train_labels.shape\n"
   ]
  },
  {
   "cell_type": "code",
   "execution_count": null,
   "metadata": {},
   "outputs": [],
   "source": [
    "train_preds.argmax(dim=1).shape"
   ]
  },
  {
   "cell_type": "code",
   "execution_count": 36,
   "metadata": {},
   "outputs": [],
   "source": [
    "def confusion_matrix(y_true, y_pred):\n",
    "    C = np.zeros((10, 10), dtype=int)\n",
    "    for k in range(len(y_true)):\n",
    "        i = actual[k]   \n",
    "        j = predicted[k]\n",
    "        C[i, j] += 1\n",
    "    return C\n",
    "\n",
    "\n"
   ]
  },
  {
   "cell_type": "code",
   "execution_count": 37,
   "metadata": {},
   "outputs": [],
   "source": [
    "actual    = train_labels.int().numpy()\n",
    "predicted = train_preds.argmax(dim=1).int().numpy()\n"
   ]
  },
  {
   "cell_type": "code",
   "execution_count": null,
   "metadata": {},
   "outputs": [
    {
     "data": {
      "text/plain": [
       "np.True_"
      ]
     },
     "execution_count": 38,
     "metadata": {},
     "output_type": "execute_result"
    }
   ],
   "source": [
    "\n",
    "(confusion_matrix(actual, predicted) == \n",
    " sklearn.metrics.confusion_matrix(actual, predicted)).all()"
   ]
  },
  {
   "cell_type": "code",
   "execution_count": 39,
   "metadata": {},
   "outputs": [],
   "source": [
    "C = confusion_matrix(actual, predicted)"
   ]
  },
  {
   "cell_type": "code",
   "execution_count": null,
   "metadata": {},
   "outputs": [
    {
     "data": {
      "image/png": "[encoded data removed]",
      "text/plain": [
       "<Figure size 600x600 with 1 Axes>"
      ]
     },
     "metadata": {},
     "output_type": "display_data"
    }
   ],
   "source": [
    "\n",
    "# simple man plot\n",
    "plt.figure(figsize=(6,6))\n",
    "plt.imshow(C)\n",
    "plt.xticks([])\n",
    "plt.yticks([]);"
   ]
  },
  {
   "cell_type": "code",
   "execution_count": 41,
   "metadata": {},
   "outputs": [
    {
     "data": {
      "text/plain": [
       "array([[93,  0,  1,  1,  0,  0,  2,  0,  0,  0],\n",
       "       [ 0, 97,  0,  1,  0,  0,  0,  0,  0,  0],\n",
       "       [ 1,  0, 82,  1,  9,  0,  4,  0,  0,  0],\n",
       "       [ 5,  0,  0, 88,  3,  0,  1,  0,  0,  0],\n",
       "       [ 0,  0,  7,  4, 82,  0,  5,  0,  0,  0],\n",
       "       [ 0,  0,  0,  0,  0, 93,  0,  3,  0,  1],\n",
       "       [29,  0, 11,  1,  8,  0, 48,  0,  0,  0],\n",
       "       [ 0,  0,  0,  0,  0,  0,  0, 96,  0,  3],\n",
       "       [ 0,  0,  0,  0,  0,  0,  0,  0, 96,  0],\n",
       "       [ 0,  0,  0,  0,  0,  0,  0,  3,  0, 96]])"
      ]
     },
     "execution_count": 41,
     "metadata": {},
     "output_type": "execute_result"
    }
   ],
   "source": [
    "np.array(C/60, dtype=int)"
   ]
  },
  {
   "cell_type": "code",
   "execution_count": 3,
   "metadata": {},
   "outputs": [
    {
     "ename": "NameError",
     "evalue": "name 'C' is not defined",
     "output_type": "error",
     "traceback": [
      "\u001b[31m---------------------------------------------------------------------------\u001b[39m",
      "\u001b[31mNameError\u001b[39m                                 Traceback (most recent call last)",
      "\u001b[36mCell\u001b[39m\u001b[36m \u001b[39m\u001b[32mIn[3]\u001b[39m\u001b[32m, line 47\u001b[39m\n\u001b[32m     34\u001b[39m names = (\n\u001b[32m     35\u001b[39m     \u001b[33m'\u001b[39m\u001b[33mT-shirt/top\u001b[39m\u001b[33m'\u001b[39m\n\u001b[32m     36\u001b[39m     ,\u001b[33m'\u001b[39m\u001b[33mTrouser\u001b[39m\u001b[33m'\u001b[39m\n\u001b[32m   (...)\u001b[39m\u001b[32m     44\u001b[39m     ,\u001b[33m'\u001b[39m\u001b[33mAnkle boot\u001b[39m\u001b[33m'\u001b[39m\n\u001b[32m     45\u001b[39m )\n\u001b[32m     46\u001b[39m plt.figure(figsize=(\u001b[32m10\u001b[39m,\u001b[32m10\u001b[39m), dpi=\u001b[32m200\u001b[39m)\n\u001b[32m---> \u001b[39m\u001b[32m47\u001b[39m plot_confusion_matrix(\u001b[43mC\u001b[49m, names)\n\u001b[32m     48\u001b[39m \u001b[38;5;28;01mif\u001b[39;00m matplotlib.__version__ == \u001b[33m'\u001b[39m\u001b[33m3.1.1\u001b[39m\u001b[33m'\u001b[39m:\n\u001b[32m     49\u001b[39m     axes = plt.gca()\n",
      "\u001b[31mNameError\u001b[39m: name 'C' is not defined"
     ]
    },
    {
     "data": {
      "text/plain": [
       "<Figure size 2000x2000 with 0 Axes>"
      ]
     },
     "metadata": {},
     "output_type": "display_data"
    }
   ],
   "source": [
    "def plot_confusion_matrix(cm, classes, \n",
    "                          normalize=False, \n",
    "                          title='Confusion matrix', \n",
    "                          cmap=plt.cm.Blues):\n",
    "    \n",
    "    # print the cm\n",
    "    if normalize:\n",
    "        cm = cm.astype('float') / cm.sum(axis=1)[:, np.newaxis]\n",
    "        print(\"Normalized confusion matrix\")\n",
    "    else:\n",
    "        print('Confusion matrix, without normalization')\n",
    "    print(cm)\n",
    "    \n",
    "    # plot the cm\n",
    "    plt.imshow(cm, interpolation='nearest', cmap=cmap)\n",
    "    plt.title(title)\n",
    "    plt.colorbar()\n",
    "    tick_marks = np.arange(len(classes))\n",
    "    plt.xticks(tick_marks, classes, rotation=45)\n",
    "    plt.yticks(tick_marks, classes)\n",
    "\n",
    "    fmt = '.2f' if normalize else 'd' # float or int\n",
    "    thresh = cm.max() / 2.\n",
    "    for i, j in itertools.product(range(cm.shape[0]), range(cm.shape[1])):\n",
    "        plt.text(j, i, format(cm[i, j], fmt), \n",
    "                 horizontalalignment=\"center\", \n",
    "                 color=\"white\" if cm[i, j] > thresh else \"black\") # color of text\n",
    "\n",
    "    plt.tight_layout()\n",
    "    plt.ylabel('Actual label')\n",
    "    plt.xlabel('Predicted label')\n",
    "    \n",
    "\n",
    "names = (\n",
    "    'T-shirt/top'\n",
    "    ,'Trouser'\n",
    "    ,'Pullover'\n",
    "    ,'Dress'\n",
    "    ,'Coat'\n",
    "    ,'Sandal'\n",
    "    ,'Shirt'\n",
    "    ,'Sneaker'\n",
    "    ,'Bag'\n",
    "    ,'Ankle boot'\n",
    ")\n",
    "plt.figure(figsize=(10,10), dpi=200)\n",
    "plot_confusion_matrix(C, names)\n",
    "if matplotlib.__version__ == '3.1.1':\n",
    "    axes = plt.gca()\n",
    "    a = axes.get_ylim()\n",
    "    plt.ylim(a[1]-0.5, a[0]+0.5)"
   ]
  }
 ],
 "metadata": {
  "kernelspec": {
   "display_name": "Python 3",
   "language": "python",
   "name": "python3"
  },
  "language_info": {
   "codemirror_mode": {
    "name": "ipython",
    "version": 3
   },
   "file_extension": ".py",
   "mimetype": "text/x-python",
   "name": "python",
   "nbconvert_exporter": "python",
   "pygments_lexer": "ipython3",
   "version": "3.13.5"
  }
 },
 "nbformat": 4,
 "nbformat_minor": 2
}
