{
 "cells": [
  {
   "cell_type": "code",
   "execution_count": 20,
   "id": "bf7c5a59",
   "metadata": {},
   "outputs": [],
   "source": [
    "import torch # to create tensors to store the raw data, weights and biases \n",
    "import torch.nn as nn # to make the weights and biases learnable (part of the network)\n",
    "import torch.nn.functional as F # to apply activation functions \n",
    "from torch.optim import Adam  \n",
    "from torch.distributions.uniform import Uniform\n",
    "\n",
    "import lightning as L # to train the model \n",
    "from torch.utils.data import DataLoader, TensorDataset # to load the data \n",
    "from lightning.pytorch.tuner.tuning import Tuner      \n",
    "from lightning.pytorch.callbacks import ModelCheckpoint #Lightning is trying to delete the previous checkpoint (because the default ModelCheckpoint is set to save_top_k=1).\n",
    "                                                        # On Windows a file gets locked as soon as any program (Explorer preview, antivirus, TensorBoard, VS Code, …) opens it, and Windows then blocks the delete call ⇒ PermissionError WinError 32\n",
    "\n",
    "import pandas as pd # to load the data \n",
    "\n",
    "import matplotlib.pyplot as plt # graphs \n",
    "import seaborn as sns # graphs\n"
   ]
  },
  {
   "cell_type": "code",
   "execution_count": 21,
   "id": "a061e76f",
   "metadata": {},
   "outputs": [],
   "source": [
    "inputs= torch.tensor([[1.,0.,0.,0.],\n",
    "                    [0.,1.,0.,0.],\n",
    "                    [0.,0.,1.,0.],\n",
    "                    [0.,0.,0.,1.]])\n",
    "labels= torch.tensor([[0.,1.,0.,0.], \n",
    "                    [0.,0.,1.,0.],\n",
    "                    [0.,0.,0.,1.],\n",
    "                    [0.,1.,0.,0.]])\n",
    "\n",
    "dataset= TensorDataset(inputs,labels)\n",
    "dataloader= DataLoader(dataset)"
   ]
  },
  {
   "cell_type": "code",
   "execution_count": null,
   "id": "d643b189",
   "metadata": {},
   "outputs": [],
   "source": [
    "class WordEmbeddingFromScratch(L.LightningModule):\n",
    "    def __init__(self):\n",
    "        super().__init__()\n",
    "\n",
    "        min_value=-0.5\n",
    "        max_value=0.5\n",
    "\n",
    "        self.input1_w1 = nn.Parameter(Uniform(min_value, max_value).sample())\n",
    "        self.input1_w2 = nn.Parameter(Uniform(min_value, max_value).sample())\n",
    "        self.input2_w1 = nn.Parameter(Uniform(min_value, max_value).sample())\n",
    "        self.input2_w2 = nn.Parameter(Uniform(min_value, max_value).sample())\n",
    "        self.input3_w1 = nn.Parameter(Uniform(min_value, max_value).sample())\n",
    "        self.input3_w2 = nn.Parameter(Uniform(min_value, max_value).sample())\n",
    "        self.input4_w1 = nn.Parameter(Uniform(min_value, max_value).sample())\n",
    "        self.input4_w2 = nn.Parameter(Uniform(min_value, max_value).sample())\n",
    "\n",
    "        self.output1_w1 = nn.Parameter(Uniform(min_value, max_value).sample())\n",
    "        self.output1_w2 = nn.Parameter(Uniform(min_value, max_value).sample())\n",
    "        self.output2_w1 = nn.Parameter(Uniform(min_value, max_value).sample())\n",
    "        self.output2_w2 = nn.Parameter(Uniform(min_value, max_value).sample())\n",
    "        self.output3_w1 = nn.Parameter(Uniform(min_value, max_value).sample())\n",
    "        self.output3_w2 = nn.Parameter(Uniform(min_value, max_value).sample())\n",
    "        self.output4_w1 = nn.Parameter(Uniform(min_value, max_value).sample())\n",
    "        self.output4_w2 = nn.Parameter(Uniform(min_value, max_value).sample())\n",
    "\n",
    "        self.loss= nn.CrossEntropyLoss() # we don't need to calc the softmax function because the nn.CrossEntropyLoss() does it for us\n",
    "\n",
    "    def forward(self, input):\n",
    "        input= input[0] # to remove the set of [] from the input list we get from the list \n",
    "\n",
    "        input_to_top_hidden = ((input[0] * self.input1_w1) +(input[1] * self.input2_w1) +(input[2] * self.input3_w1) +(input[3] * self.input4_w1))\n",
    "\n",
    "        input_to_bottom_hidden = ((input[0] * self.input1_w2) +(input[1] * self.input2_w2) +(input[2] * self.input3_w2) +(input[3] * self.input4_w2))\n",
    "\n",
    "        output1= (input_to_top_hidden * self.output1_w1) +(input_to_bottom_hidden * self.output1_w2)\n",
    "\n",
    "        output2= (input_to_top_hidden * self.output2_w1) +(input_to_bottom_hidden * self.output2_w2)\n",
    "\n",
    "        output3= (input_to_top_hidden * self.output3_w1) +(input_to_bottom_hidden * self.output3_w2)\n",
    "\n",
    "        output4= (input_to_top_hidden * self.output4_w1) +(input_to_bottom_hidden * self.output4_w2)\n",
    "\n",
    "        output_presoftmax = torch.stack([output1, output2, output3, output4]) # we use torch.stack to preserve the gradients of the output\n",
    "\n",
    "        return output_presoftmax\n",
    "\n",
    "    def configure_optimizers(self):\n",
    "        return torch.optim.Adam(self.parameters(), lr=0.1)\n",
    "\n",
    "    def training_step(self, batch, batch_idx):\n",
    "        input_i,label_i = batch\n",
    "        output_i=self.forward(input_i)\n",
    "        loss=self.loss(output_i, label_i[0])\n",
    "        return loss\n",
    "\n"
   ]
  },
  {
   "cell_type": "code",
   "execution_count": 26,
   "id": "15d89f62",
   "metadata": {},
   "outputs": [
    {
     "name": "stdout",
     "output_type": "stream",
     "text": [
      "before optimization, the parameters are:\n",
      "input1_w1 tensor(-0.1620)\n",
      "input1_w2 tensor(0.2243)\n",
      "input2_w1 tensor(0.2362)\n",
      "input2_w2 tensor(-0.4222)\n",
      "input3_w1 tensor(-0.2228)\n",
      "input3_w2 tensor(-0.2710)\n",
      "input4_w1 tensor(-0.3389)\n",
      "input4_w2 tensor(-0.4558)\n",
      "output1_w1 tensor(0.0278)\n",
      "output1_w2 tensor(-0.2346)\n",
      "output2_w1 tensor(-0.2812)\n",
      "output2_w2 tensor(0.3930)\n",
      "output3_w1 tensor(-0.3628)\n",
      "output3_w2 tensor(-0.2595)\n",
      "output4_w1 tensor(-0.0391)\n",
      "output4_w2 tensor(-0.2071)\n"
     ]
    }
   ],
   "source": [
    "modelFromScratch=WordEmbeddingFromScratch()\n",
    "\n",
    "print(\"before optimization, the parameters are:\")\n",
    "for name,param in modelFromScratch.named_parameters():\n",
    "    print(name, param.data)"
   ]
  },
  {
   "cell_type": "code",
   "execution_count": 27,
   "id": "6bbc0e8b",
   "metadata": {},
   "outputs": [
    {
     "data": {
      "text/html": [
       "<div>\n",
       "<style scoped>\n",
       "    .dataframe tbody tr th:only-of-type {\n",
       "        vertical-align: middle;\n",
       "    }\n",
       "\n",
       "    .dataframe tbody tr th {\n",
       "        vertical-align: top;\n",
       "    }\n",
       "\n",
       "    .dataframe thead th {\n",
       "        text-align: right;\n",
       "    }\n",
       "</style>\n",
       "<table border=\"1\" class=\"dataframe\">\n",
       "  <thead>\n",
       "    <tr style=\"text-align: right;\">\n",
       "      <th></th>\n",
       "      <th>w1</th>\n",
       "      <th>w2</th>\n",
       "      <th>token</th>\n",
       "      <th>input</th>\n",
       "    </tr>\n",
       "  </thead>\n",
       "  <tbody>\n",
       "    <tr>\n",
       "      <th>0</th>\n",
       "      <td>-0.161962</td>\n",
       "      <td>0.224262</td>\n",
       "      <td>Troll2</td>\n",
       "      <td>input1</td>\n",
       "    </tr>\n",
       "    <tr>\n",
       "      <th>1</th>\n",
       "      <td>0.236194</td>\n",
       "      <td>-0.422188</td>\n",
       "      <td>is</td>\n",
       "      <td>input2</td>\n",
       "    </tr>\n",
       "    <tr>\n",
       "      <th>2</th>\n",
       "      <td>-0.222846</td>\n",
       "      <td>-0.271002</td>\n",
       "      <td>great</td>\n",
       "      <td>input3</td>\n",
       "    </tr>\n",
       "    <tr>\n",
       "      <th>3</th>\n",
       "      <td>-0.338895</td>\n",
       "      <td>-0.455759</td>\n",
       "      <td>Gymkata</td>\n",
       "      <td>input4</td>\n",
       "    </tr>\n",
       "  </tbody>\n",
       "</table>\n",
       "</div>"
      ],
      "text/plain": [
       "         w1        w2    token   input\n",
       "0 -0.161962  0.224262   Troll2  input1\n",
       "1  0.236194 -0.422188       is  input2\n",
       "2 -0.222846 -0.271002    great  input3\n",
       "3 -0.338895 -0.455759  Gymkata  input4"
      ]
     },
     "execution_count": 27,
     "metadata": {},
     "output_type": "execute_result"
    }
   ],
   "source": [
    "data = {\n",
    "    \"w1\": [modelFromScratch.input1_w1.item(),\n",
    "           modelFromScratch.input2_w1.item(),\n",
    "           modelFromScratch.input3_w1.item(),\n",
    "           modelFromScratch.input4_w1.item()],\n",
    "    \"w2\": [modelFromScratch.input1_w2.item(),\n",
    "           modelFromScratch.input2_w2.item(),\n",
    "           modelFromScratch.input3_w2.item(),\n",
    "           modelFromScratch.input4_w2.item()],\n",
    "    \"token\": [\"Troll2\", \"is\", \"great\", \"Gymkata\"],\n",
    "    \"input\": [\"input1\", \"input2\", \"input3\", \"input4\"]\n",
    "}\n",
    "\n",
    "df = pd.DataFrame(data)\n",
    "df"
   ]
  },
  {
   "cell_type": "code",
   "execution_count": 28,
   "id": "7461a706",
   "metadata": {},
   "outputs": [
    {
     "data": {
      "image/png": "[encoded data removed]",
      "text/plain": [
       "<Figure size 640x480 with 1 Axes>"
      ]
     },
     "metadata": {},
     "output_type": "display_data"
    }
   ],
   "source": [
    "sns.scatterplot(data=df, x=\"w1\", y=\"w2\")\n",
    "plt.text(df.w1[0], df.w2[0], df.token[0], horizontalalignment=\"left\",color=\"black\",size='small',weight='semibold')\n",
    "plt.text(df.w1[1], df.w2[1], df.token[1], horizontalalignment=\"left\",color=\"black\",size='small',weight='semibold')\n",
    "plt.text(df.w1[2], df.w2[2], df.token[2], horizontalalignment=\"left\",color=\"black\",size='small',weight='semibold')\n",
    "plt.text(df.w1[3], df.w2[3], df.token[3], horizontalalignment=\"left\",color=\"black\",size='small',weight='semibold')\n",
    "\n",
    "plt.show()"
   ]
  },
  {
   "cell_type": "code",
   "execution_count": 29,
   "id": "054990a6",
   "metadata": {},
   "outputs": [
    {
     "name": "stderr",
     "output_type": "stream",
     "text": [
      "GPU available: False, used: False\n",
      "TPU available: False, using: 0 TPU cores\n",
      "HPU available: False, using: 0 HPUs\n",
      "\n",
      "  | Name         | Type             | Params | Mode \n",
      "----------------------------------------------------------\n",
      "0 | loss         | CrossEntropyLoss | 0      | train\n",
      "  | other params | n/a              | 16     | n/a  \n",
      "----------------------------------------------------------\n",
      "16        Trainable params\n",
      "0         Non-trainable params\n",
      "16        Total params\n",
      "0.000     Total estimated model params size (MB)\n",
      "1         Modules in train mode\n",
      "0         Modules in eval mode\n",
      "C:\\Users\\dell\\AppData\\Roaming\\Python\\Python313\\site-packages\\lightning\\pytorch\\trainer\\connectors\\data_connector.py:425: The 'train_dataloader' does not have many workers which may be a bottleneck. Consider increasing the value of the `num_workers` argument` to `num_workers=11` in the `DataLoader` to improve performance.\n",
      "C:\\Users\\dell\\AppData\\Roaming\\Python\\Python313\\site-packages\\lightning\\pytorch\\loops\\fit_loop.py:310: The number of training batches (4) is smaller than the logging interval Trainer(log_every_n_steps=50). Set a lower value for log_every_n_steps if you want to see logs for the training epoch.\n"
     ]
    },
    {
     "name": "stdout",
     "output_type": "stream",
     "text": [
      "Epoch 99: 100%|██████████| 4/4 [00:00<00:00, 203.02it/s, v_num=70]"
     ]
    },
    {
     "name": "stderr",
     "output_type": "stream",
     "text": [
      "`Trainer.fit` stopped: `max_epochs=100` reached.\n"
     ]
    },
    {
     "name": "stdout",
     "output_type": "stream",
     "text": [
      "Epoch 99: 100%|██████████| 4/4 [00:00<00:00, 156.09it/s, v_num=70]\n"
     ]
    }
   ],
   "source": [
    "ckpt_cb = ModelCheckpoint(save_top_k=-1)   # -1 = keep everything\n",
    "\n",
    "trainer=L.Trainer(max_epochs=100,callbacks=[ckpt_cb])\n",
    "trainer.fit(modelFromScratch, train_dataloaders=dataloader)"
   ]
  },
  {
   "cell_type": "code",
   "execution_count": 31,
   "id": "58563e2f",
   "metadata": {},
   "outputs": [
    {
     "data": {
      "text/html": [
       "<div>\n",
       "<style scoped>\n",
       "    .dataframe tbody tr th:only-of-type {\n",
       "        vertical-align: middle;\n",
       "    }\n",
       "\n",
       "    .dataframe tbody tr th {\n",
       "        vertical-align: top;\n",
       "    }\n",
       "\n",
       "    .dataframe thead th {\n",
       "        text-align: right;\n",
       "    }\n",
       "</style>\n",
       "<table border=\"1\" class=\"dataframe\">\n",
       "  <thead>\n",
       "    <tr style=\"text-align: right;\">\n",
       "      <th></th>\n",
       "      <th>w1</th>\n",
       "      <th>w2</th>\n",
       "      <th>token</th>\n",
       "      <th>input</th>\n",
       "    </tr>\n",
       "  </thead>\n",
       "  <tbody>\n",
       "    <tr>\n",
       "      <th>0</th>\n",
       "      <td>-1.847581</td>\n",
       "      <td>1.628782</td>\n",
       "      <td>Troll2</td>\n",
       "      <td>input1</td>\n",
       "    </tr>\n",
       "    <tr>\n",
       "      <th>1</th>\n",
       "      <td>2.195506</td>\n",
       "      <td>-2.248843</td>\n",
       "      <td>is</td>\n",
       "      <td>input2</td>\n",
       "    </tr>\n",
       "    <tr>\n",
       "      <th>2</th>\n",
       "      <td>-1.805863</td>\n",
       "      <td>-3.071294</td>\n",
       "      <td>great</td>\n",
       "      <td>input3</td>\n",
       "    </tr>\n",
       "    <tr>\n",
       "      <th>3</th>\n",
       "      <td>-2.017890</td>\n",
       "      <td>1.184395</td>\n",
       "      <td>Gymkata</td>\n",
       "      <td>input4</td>\n",
       "    </tr>\n",
       "  </tbody>\n",
       "</table>\n",
       "</div>"
      ],
      "text/plain": [
       "         w1        w2    token   input\n",
       "0 -1.847581  1.628782   Troll2  input1\n",
       "1  2.195506 -2.248843       is  input2\n",
       "2 -1.805863 -3.071294    great  input3\n",
       "3 -2.017890  1.184395  Gymkata  input4"
      ]
     },
     "execution_count": 31,
     "metadata": {},
     "output_type": "execute_result"
    }
   ],
   "source": [
    "data = {\n",
    "    \"w1\": [modelFromScratch.input1_w1.item(),\n",
    "           modelFromScratch.input2_w1.item(),\n",
    "           modelFromScratch.input3_w1.item(),\n",
    "           modelFromScratch.input4_w1.item()],\n",
    "    \"w2\": [modelFromScratch.input1_w2.item(),\n",
    "           modelFromScratch.input2_w2.item(),\n",
    "           modelFromScratch.input3_w2.item(),\n",
    "           modelFromScratch.input4_w2.item()],\n",
    "    \"token\": [\"Troll2\", \"is\", \"great\", \"Gymkata\"],\n",
    "    \"input\": [\"input1\", \"input2\", \"input3\", \"input4\"]\n",
    "}\n",
    "\n",
    "df = pd.DataFrame(data)\n",
    "df\n"
   ]
  },
  {
   "cell_type": "code",
   "execution_count": 33,
   "id": "def9947a",
   "metadata": {},
   "outputs": [
    {
     "data": {
      "image/png": "[encoded data removed]",
      "text/plain": [
       "<Figure size 640x480 with 1 Axes>"
      ]
     },
     "metadata": {},
     "output_type": "display_data"
    }
   ],
   "source": [
    "sns.scatterplot(data=df, x=\"w1\", y=\"w2\")\n",
    "plt.text(df.w1[0]-0.2, df.w2[0]+0.1, df.token[0], horizontalalignment=\"left\",color=\"black\",size='small',weight='semibold')\n",
    "plt.text(df.w1[1], df.w2[1], df.token[1], horizontalalignment=\"left\",color=\"black\",size='small',weight='semibold')\n",
    "plt.text(df.w1[2], df.w2[2], df.token[2], horizontalalignment=\"left\",color=\"black\",size='small',weight='semibold')\n",
    "plt.text(df.w1[3]-0.3, df.w2[3]-0.3, df.token[3], horizontalalignment=\"left\",color=\"black\",size='small',weight='semibold')\n",
    "\n",
    "plt.show()"
   ]
  },
  {
   "cell_type": "code",
   "execution_count": 35,
   "id": "0cb24f2c",
   "metadata": {},
   "outputs": [
    {
     "name": "stdout",
     "output_type": "stream",
     "text": [
      "tensor([0., 1., 0., 0.], grad_fn=<RoundBackward1>)\n",
      "tensor([0., 0., 1., 0.], grad_fn=<RoundBackward1>)\n",
      "tensor([0., 0., 0., 1.], grad_fn=<RoundBackward1>)\n",
      "tensor([0., 1., 0., 0.], grad_fn=<RoundBackward1>)\n"
     ]
    }
   ],
   "source": [
    "softmax = nn.Softmax(dim=0)#dim=0 means along the rows, 1 is for columns\n",
    "\n",
    "print(torch.round(softmax(modelFromScratch(torch.tensor([[1., 0., 0., 0.]]))),decimals=2))\n",
    "\n",
    "print(torch.round(softmax(modelFromScratch(torch.tensor([[0., 1., 0., 0.]]))),decimals=2))\n",
    "\n",
    "print(torch.round(softmax(modelFromScratch(torch.tensor([[0., 0., 1., 0.]]))),decimals=2))\n",
    "\n",
    "print(torch.round(softmax(modelFromScratch(torch.tensor([[0., 0., 0., 1.]]))),decimals=2))\n"
   ]
  },
  {
   "cell_type": "code",
   "execution_count": 91,
   "id": "fa948339",
   "metadata": {},
   "outputs": [],
   "source": [
    "class WordEmbeddingWithLinear(L.LightningModule):\n",
    "    def __init__(self):\n",
    "        super().__init__()\n",
    "        \n",
    "        self.input_to_hidden = nn.Linear(in_features=4, out_features=2,bias=False) # 4 input features (weights) and 2 hidden features (nodes)\n",
    "        self.hidden_to_output = nn.Linear(in_features=2, out_features=4,bias=False) # 2 hidden features (weights) and 4 output features (nodes)\n",
    "        \n",
    "        self.loss = nn.CrossEntropyLoss()\n",
    "        \n",
    "    def forward(self, input): # we don't need to remove the brackets [] from the input list cuz linear don't care\n",
    "        hidden = self.input_to_hidden(input)\n",
    "        output_values = self.hidden_to_output(hidden)\n",
    "        return (output_values)\n",
    "    \n",
    "    def configure_optimizers(self):\n",
    "        return Adam(self.parameters(), lr=0.1)\n",
    "\n",
    "    def training_step(self, batch, batch_idx):\n",
    "        input_i,label_i = batch\n",
    "        output_i=self.forward(input_i)\n",
    "        loss=self.loss(output_i, label_i)\n",
    "        \n",
    "        return loss"
   ]
  },
  {
   "cell_type": "code",
   "execution_count": 92,
   "id": "1fd25958",
   "metadata": {},
   "outputs": [
    {
     "data": {
      "text/html": [
       "<div>\n",
       "<style scoped>\n",
       "    .dataframe tbody tr th:only-of-type {\n",
       "        vertical-align: middle;\n",
       "    }\n",
       "\n",
       "    .dataframe tbody tr th {\n",
       "        vertical-align: top;\n",
       "    }\n",
       "\n",
       "    .dataframe thead th {\n",
       "        text-align: right;\n",
       "    }\n",
       "</style>\n",
       "<table border=\"1\" class=\"dataframe\">\n",
       "  <thead>\n",
       "    <tr style=\"text-align: right;\">\n",
       "      <th></th>\n",
       "      <th>w1</th>\n",
       "      <th>w2</th>\n",
       "      <th>token</th>\n",
       "      <th>input</th>\n",
       "    </tr>\n",
       "  </thead>\n",
       "  <tbody>\n",
       "    <tr>\n",
       "      <th>0</th>\n",
       "      <td>0.067073</td>\n",
       "      <td>-0.463154</td>\n",
       "      <td>Troll2</td>\n",
       "      <td>input1</td>\n",
       "    </tr>\n",
       "    <tr>\n",
       "      <th>1</th>\n",
       "      <td>0.240689</td>\n",
       "      <td>-0.283598</td>\n",
       "      <td>is</td>\n",
       "      <td>input2</td>\n",
       "    </tr>\n",
       "    <tr>\n",
       "      <th>2</th>\n",
       "      <td>0.237029</td>\n",
       "      <td>0.478762</td>\n",
       "      <td>great</td>\n",
       "      <td>input3</td>\n",
       "    </tr>\n",
       "    <tr>\n",
       "      <th>3</th>\n",
       "      <td>-0.164766</td>\n",
       "      <td>0.383554</td>\n",
       "      <td>Gymkata</td>\n",
       "      <td>input4</td>\n",
       "    </tr>\n",
       "  </tbody>\n",
       "</table>\n",
       "</div>"
      ],
      "text/plain": [
       "         w1        w2    token   input\n",
       "0  0.067073 -0.463154   Troll2  input1\n",
       "1  0.240689 -0.283598       is  input2\n",
       "2  0.237029  0.478762    great  input3\n",
       "3 -0.164766  0.383554  Gymkata  input4"
      ]
     },
     "execution_count": 92,
     "metadata": {},
     "output_type": "execute_result"
    }
   ],
   "source": [
    "modelLinear = WordEmbeddingWithLinear()\n",
    "\n",
    "data = {\n",
    "\"w1\": modelLinear.input_to_hidden.weight.detach()[0].numpy(),\n",
    "\"w2\": modelLinear.input_to_hidden.weight.detach()[1].numpy(),\n",
    "\"token\": [\"Troll2\", \"is\", \"great\", \"Gymkata\"],\n",
    "\"input\": [\"input1\", \"input2\", \"input3\", \"input4\"]\n",
    "}\n",
    "\n",
    "df = pd.DataFrame(data)\n",
    "df"
   ]
  },
  {
   "cell_type": "code",
   "execution_count": 93,
   "id": "327e753a",
   "metadata": {},
   "outputs": [
    {
     "data": {
      "image/png": "[encoded data removed]",
      "text/plain": [
       "<Figure size 640x480 with 1 Axes>"
      ]
     },
     "metadata": {},
     "output_type": "display_data"
    }
   ],
   "source": [
    "sns.scatterplot(data=df, x=\"w1\", y=\"w2\")\n",
    "plt.text(df.w1[0], df.w2[0], df.token[0], horizontalalignment=\"left\",color=\"black\",size='small',weight='semibold')\n",
    "plt.text(df.w1[1], df.w2[1], df.token[1], horizontalalignment=\"left\",color=\"black\",size='small',weight='semibold')\n",
    "plt.text(df.w1[2], df.w2[2], df.token[2], horizontalalignment=\"left\",color=\"black\",size='small',weight='semibold')\n",
    "plt.text(df.w1[3], df.w2[3], df.token[3], horizontalalignment=\"left\",color=\"black\",size='small',weight='semibold')\n",
    "\n",
    "plt.show()"
   ]
  },
  {
   "cell_type": "code",
   "execution_count": 94,
   "id": "d1d838a3",
   "metadata": {},
   "outputs": [
    {
     "name": "stderr",
     "output_type": "stream",
     "text": [
      "GPU available: False, used: False\n",
      "TPU available: False, using: 0 TPU cores\n",
      "HPU available: False, using: 0 HPUs\n",
      "\n",
      "  | Name             | Type             | Params | Mode \n",
      "--------------------------------------------------------------\n",
      "0 | input_to_hidden  | Linear           | 8      | train\n",
      "1 | hidden_to_output | Linear           | 8      | train\n",
      "2 | loss             | CrossEntropyLoss | 0      | train\n",
      "--------------------------------------------------------------\n",
      "16        Trainable params\n",
      "0         Non-trainable params\n",
      "16        Total params\n",
      "0.000     Total estimated model params size (MB)\n",
      "3         Modules in train mode\n",
      "0         Modules in eval mode\n",
      "C:\\Users\\dell\\AppData\\Roaming\\Python\\Python313\\site-packages\\lightning\\pytorch\\trainer\\connectors\\data_connector.py:425: The 'train_dataloader' does not have many workers which may be a bottleneck. Consider increasing the value of the `num_workers` argument` to `num_workers=11` in the `DataLoader` to improve performance.\n",
      "C:\\Users\\dell\\AppData\\Roaming\\Python\\Python313\\site-packages\\lightning\\pytorch\\loops\\fit_loop.py:310: The number of training batches (4) is smaller than the logging interval Trainer(log_every_n_steps=50). Set a lower value for log_every_n_steps if you want to see logs for the training epoch.\n"
     ]
    },
    {
     "name": "stdout",
     "output_type": "stream",
     "text": [
      "Epoch 99: 100%|██████████| 4/4 [00:00<00:00, 204.13it/s, v_num=85]"
     ]
    },
    {
     "name": "stderr",
     "output_type": "stream",
     "text": [
      "`Trainer.fit` stopped: `max_epochs=100` reached.\n"
     ]
    },
    {
     "name": "stdout",
     "output_type": "stream",
     "text": [
      "Epoch 99: 100%|██████████| 4/4 [00:00<00:00, 186.99it/s, v_num=85]\n"
     ]
    }
   ],
   "source": [
    "\n",
    "trainer=L.Trainer(max_epochs=100,enable_checkpointing=False)\n",
    "trainer.fit(modelLinear, train_dataloaders=dataloader)"
   ]
  },
  {
   "cell_type": "code",
   "execution_count": 95,
   "id": "9e8ad160",
   "metadata": {},
   "outputs": [
    {
     "data": {
      "image/png": "[encoded data removed]",
      "text/plain": [
       "<Figure size 640x480 with 1 Axes>"
      ]
     },
     "metadata": {},
     "output_type": "display_data"
    }
   ],
   "source": [
    "sns.scatterplot(data=df, x=\"w1\", y=\"w2\")\n",
    "plt.text(df.w1[0], df.w2[0], df.token[0], horizontalalignment=\"left\",color=\"black\",size='small',weight='semibold')\n",
    "plt.text(df.w1[1], df.w2[1], df.token[1], horizontalalignment=\"left\",color=\"black\",size='small',weight='semibold')\n",
    "plt.text(df.w1[2], df.w2[2], df.token[2], horizontalalignment=\"left\",color=\"black\",size='small',weight='semibold')\n",
    "plt.text(df.w1[3], df.w2[3], df.token[3], horizontalalignment=\"left\",color=\"black\",size='small',weight='semibold')\n",
    "\n",
    "plt.show()"
   ]
  }
 ],
 "metadata": {
  "kernelspec": {
   "display_name": "Python 3",
   "language": "python",
   "name": "python3"
  },
  "language_info": {
   "codemirror_mode": {
    "name": "ipython",
    "version": 3
   },
   "file_extension": ".py",
   "mimetype": "text/x-python",
   "name": "python",
   "nbconvert_exporter": "python",
   "pygments_lexer": "ipython3",
   "version": "3.13.5"
  }
 },
 "nbformat": 4,
 "nbformat_minor": 5
}
