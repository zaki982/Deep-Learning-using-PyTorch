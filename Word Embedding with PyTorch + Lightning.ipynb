{
 "cells": [
  {
   "cell_type": "code",
   "execution_count": null,
   "id": "bf7c5a59",
   "metadata": {},
   "outputs": [],
   "source": [
    "import torch # to create tensors to store the raw data, weights and biases \n",
    "import torch.nn as nn # to make the weights and biases learnable (part of the network)\n",
    "import torch.nn.functional as F # to apply activation functions \n",
    "from torch.optim import Adam  \n",
    "from torch.distributions.uniform import Uniform\n",
    "\n",
    "import lightning as L # to train the model \n",
    "from torch.utils.data import DataLoader, TensorDataset # to load the data \n",
    "from lightning.pytorch.tuner.tuning import Tuner      \n",
    "from lightning.pytorch.callbacks import ModelCheckpoint #Lightning is trying to delete the previous checkpoint (because the default ModelCheckpoint is set to save_top_k=1).\n",
    "                                                        # On Windows a file gets locked as soon as any program (Explorer preview, antivirus, TensorBoard, VS Code, …) opens it, and Windows then blocks the delete call ⇒ PermissionError WinError 32\n",
    "\n",
    "import pandas as pd # to load the data \n",
    "\n",
    "import matplotlib.pyplot as plt # graphs \n",
    "import seaborn as sns # graphs\n"
   ]
  }
 ],
 "metadata": {
  "language_info": {
   "name": "python"
  }
 },
 "nbformat": 4,
 "nbformat_minor": 5
}
