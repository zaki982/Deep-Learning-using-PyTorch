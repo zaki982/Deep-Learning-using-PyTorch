{
 "cells": [
  {
   "cell_type": "code",
   "execution_count": 2,
   "id": "bf7c5a59",
   "metadata": {},
   "outputs": [
    {
     "name": "stderr",
     "output_type": "stream",
     "text": [
      "C:\\Users\\dell\\AppData\\Roaming\\Python\\Python313\\site-packages\\tqdm\\auto.py:21: TqdmWarning: IProgress not found. Please update jupyter and ipywidgets. See https://ipywidgets.readthedocs.io/en/stable/user_install.html\n",
      "  from .autonotebook import tqdm as notebook_tqdm\n"
     ]
    }
   ],
   "source": [
    "import torch # to create tensors to store the raw data, weights and biases \n",
    "import torch.nn as nn # to make the weights and biases learnable (part of the network)\n",
    "import torch.nn.functional as F # to apply activation functions \n",
    "from torch.optim import Adam  \n",
    "from torch.distributions.uniform import Uniform\n",
    "\n",
    "import lightning as L # to train the model \n",
    "from torch.utils.data import DataLoader, TensorDataset # to load the data \n",
    "from lightning.pytorch.tuner.tuning import Tuner      \n",
    "from lightning.pytorch.callbacks import ModelCheckpoint #Lightning is trying to delete the previous checkpoint (because the default ModelCheckpoint is set to save_top_k=1).\n",
    "                                                        # On Windows a file gets locked as soon as any program (Explorer preview, antivirus, TensorBoard, VS Code, …) opens it, and Windows then blocks the delete call ⇒ PermissionError WinError 32\n",
    "\n",
    "import pandas as pd # to load the data \n",
    "\n",
    "import matplotlib.pyplot as plt # graphs \n",
    "import seaborn as sns # graphs\n"
   ]
  },
  {
   "cell_type": "code",
   "execution_count": 5,
   "id": "a061e76f",
   "metadata": {},
   "outputs": [],
   "source": [
    "inputs= torch.tensor([[1.,0.,0.,0.],\n",
    "                    [0.,1.,0.,0.],\n",
    "                    [0.,0.,1.,0.],\n",
    "                    [0.,0.,0.,1.]])\n",
    "labels= torch.tensor([[0.,1.,0.,0.], \n",
    "                    [0.,0.,1.,0.],\n",
    "                    [0.,0.,0.,1.],\n",
    "                    [0.,1.,0.,0.]])\n",
    "\n",
    "dataset= TensorDataset(inputs,labels)\n",
    "dataloader= DataLoader(dataset)"
   ]
  },
  {
   "cell_type": "code",
   "execution_count": 7,
   "id": "d643b189",
   "metadata": {},
   "outputs": [],
   "source": [
    "class WordEmbeddingFromScratch(L.LightningModule):\n",
    "    def __init__(self):\n",
    "        super().__init__()\n",
    "\n",
    "        min_value=-0.5\n",
    "        max_value=0.5\n",
    "\n",
    "        self.input1_w1 = nn.Parameter(Uniform(min_value, max_value).sample())\n",
    "        self.input1_w2 = nn.Parameter(Uniform(min_value, max_value).sample())\n",
    "        self.input2_w1 = nn.Parameter(Uniform(min_value, max_value).sample())\n",
    "        self.input2_w2 = nn.Parameter(Uniform(min_value, max_value).sample())\n",
    "        self.input3_w1 = nn.Parameter(Uniform(min_value, max_value).sample())\n",
    "        self.input3_w2 = nn.Parameter(Uniform(min_value, max_value).sample())\n",
    "        self.input4_w1 = nn.Parameter(Uniform(min_value, max_value).sample())\n",
    "        self.input4_w2 = nn.Parameter(Uniform(min_value, max_value).sample())\n",
    "\n",
    "        self.output1_w1 = nn.Parameter(Uniform(min_value, max_value).sample())\n",
    "        self.output1_w2 = nn.Parameter(Uniform(min_value, max_value).sample())\n",
    "        self.output2_w1 = nn.Parameter(Uniform(min_value, max_value).sample())\n",
    "        self.output2_w2 = nn.Parameter(Uniform(min_value, max_value).sample())\n",
    "        self.output3_w1 = nn.Parameter(Uniform(min_value, max_value).sample())\n",
    "        self.output3_w2 = nn.Parameter(Uniform(min_value, max_value).sample())\n",
    "        self.output4_w1 = nn.Parameter(Uniform(min_value, max_value).sample())\n",
    "        self.output4_w2 = nn.Parameter(Uniform(min_value, max_value).sample())\n",
    "\n",
    "        self.loss= nn.CrossEntropyLoss()\n",
    "\n",
    "    def forward(self, input):\n",
    "        input= input[0] # to remove the set of [] from the input list we get from the list \n",
    "\n",
    "        input_to_top_hidden = ((input[0] * self.input1_w1) +(input[1] * self.input2_w1) +(input[2] * self.input3_w1) +(input[3] * self.input4_w1))\n",
    "\n",
    "        input_to_bottom_hidden = ((input[0] * self.input1_w2) +(input[1] * self.input2_w2) +(input[2] * self.input3_w2) +(input[3] * self.input4_w2))\n",
    "\n",
    "        output1= (input_to_top_hidden * self.output1_w1) +(input_to_bottom_hidden * self.output1_w2)\n",
    "\n",
    "        output2= (input_to_top_hidden * self.output2_w1) +(input_to_bottom_hidden * self.output2_w2)\n",
    "\n",
    "        output3= (input_to_top_hidden * self.output3_w1) +(input_to_bottom_hidden * self.output3_w2)\n",
    "\n",
    "        output4= (input_to_top_hidden * self.output4_w1) +(input_to_bottom_hidden * self.output4_w2)\n",
    "\n",
    "        output_presoftmax = torch.stack([output1, output2, output3, output4], dim=1) # we use torch.stack to preserve the gradients of the output\n",
    "\n",
    "        return output_presoftmax\n",
    "\n",
    "    def configure_optimizers(self):\n",
    "        return torch.optim.Adam(self.parameters(), lr=0.1)\n",
    "\n",
    "    def training_step(self, batch, batch_idx):\n",
    "        input_i,label_i = batch\n",
    "        output_i=self.forward(input_i)\n",
    "        loss=self.loss(output_i, label_i[0])\n",
    "        return loss\n",
    "\n"
   ]
  }
 ],
 "metadata": {
  "kernelspec": {
   "display_name": "Python 3",
   "language": "python",
   "name": "python3"
  },
  "language_info": {
   "codemirror_mode": {
    "name": "ipython",
    "version": 3
   },
   "file_extension": ".py",
   "mimetype": "text/x-python",
   "name": "python",
   "nbconvert_exporter": "python",
   "pygments_lexer": "ipython3",
   "version": "3.13.5"
  }
 },
 "nbformat": 4,
 "nbformat_minor": 5
}
